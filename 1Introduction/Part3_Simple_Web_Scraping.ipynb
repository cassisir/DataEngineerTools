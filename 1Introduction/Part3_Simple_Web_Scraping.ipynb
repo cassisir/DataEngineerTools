{
 "cells": [
  {
   "cell_type": "markdown",
   "metadata": {},
   "source": [
    "# Introduction"
   ]
  },
  {
   "cell_type": "markdown",
   "metadata": {},
   "source": [
    "Avant de commencer, parcourer le fichier README.rst"
   ]
  },
  {
   "cell_type": "markdown",
   "metadata": {},
   "source": [
    "# Requête HTTP "
   ]
  },
  {
   "cell_type": "markdown",
   "metadata": {},
   "source": [
    "Un requête HTTP est une requête basé sur le protocole TCP, elle fait partie de la couche application de la couche OSI. Elle permet d'accéder aux données mise à disposition sur une adresse IP (ou url résolue par un DNS) et un port. \n",
    "\n",
    "Les deux ports les plus utilisé dans le web sont le 80 pour les sites en HTTP et le 443 pour les sites en HTTPS. HTTPS est une variable du protocole HTTP basé sur le protocole TLS.\n",
    "\n",
    "Il existe de nombreux types de requêtes selon la convention `REST`: \n",
    "- GET\n",
    "- POST\n",
    "- PUT \n",
    "- DELETE\n",
    "- UPDATE.\n",
    "\n",
    "Dans notre cas nous allons utiliser la plupart du temps des GET et potentiellement des POST. \n",
    "- Le GET permet comme sont nom l'indique de récupérer des informations en fonction de certain paramètres. \n",
    "- Le POST nécéssite un envoie de données pour récupérer des données. Le body du post est, la plupart du temps, envoyé sous la forme d'un objet JSON.\n",
    "\n",
    "Ces requêtes encapsulent un certain nombre de paramètres qui permettent soient d'identifier une provenance et un utilisateur ou de réaliser différentes actions."
   ]
  },
  {
   "cell_type": "code",
   "execution_count": 2,
   "metadata": {},
   "outputs": [],
   "source": [
    "import requests"
   ]
  },
  {
   "cell_type": "code",
   "execution_count": 2,
   "metadata": {},
   "outputs": [
    {
     "data": {
      "text/plain": [
       "200"
      ]
     },
     "execution_count": 2,
     "metadata": {},
     "output_type": "execute_result"
    }
   ],
   "source": [
    "url = \"http://www.esiee.fr/\"\n",
    "response = requests.get(url)\n",
    "response.status_code"
   ]
  },
  {
   "cell_type": "markdown",
   "metadata": {},
   "source": [
    "Il existe deux méthodes pour récupérer le contenu de la page :\n",
    "\n",
    "- `response.text` qui permet de retourner le texte sous la forme d'une chaine de charactères.\n",
    "- `response.content` qui permet de récupérer le contenu de la page sous la forme de bytes"
   ]
  },
  {
   "cell_type": "code",
   "execution_count": 3,
   "metadata": {},
   "outputs": [
    {
     "data": {
      "text/plain": [
       "bytes"
      ]
     },
     "execution_count": 3,
     "metadata": {},
     "output_type": "execute_result"
    }
   ],
   "source": [
    "type(response.content)"
   ]
  },
  {
   "cell_type": "code",
   "execution_count": 4,
   "metadata": {},
   "outputs": [
    {
     "data": {
      "text/plain": [
       "str"
      ]
     },
     "execution_count": 4,
     "metadata": {},
     "output_type": "execute_result"
    }
   ],
   "source": [
    "type(response.text)"
   ]
  },
  {
   "cell_type": "markdown",
   "metadata": {},
   "source": [
    "Pour récupérer les 1000 premiers charactères de la page :"
   ]
  },
  {
   "cell_type": "code",
   "execution_count": 5,
   "metadata": {},
   "outputs": [
    {
     "data": {
      "text/plain": [
       "'<!DOCTYPE html>\\n<!--[if lt IE 7]>      <html class=\"no-js lt-ie9 lt-ie8 lt-ie7\"> <![endif]-->\\n<!--[if IE 7]>         <html class=\"no-js lt-ie9 lt-ie8\"> <![endif]-->\\n<!--[if IE 8]>         <html class=\"no-js lt-ie9\"> <![endif]-->\\n<!--[if IE 9]>         <html class=\"no-js ie9\"> <![endif]-->\\n<!--[if gt IE 9]><!--> <html class=\"no-js\"> <!--<![endif]-->\\n<head profile=\"http://www.w3.org/1999/xhtml/vocab\">\\n  <meta name=\"google-site-verification\" content=\"JnG7DTdhQuWTeSHlWC63CeWpb3WValiOorksYjoYOWI\" />\\n  <meta http-equiv=\"Content-Type\" content=\"text/html; charset=utf-8\" />\\n<meta name=\"Generator\" content=\"Drupal 7 (http://drupal.org)\" />\\n<meta name=\"description\" content=\"ESIEE Paris, l’école de l’innovation technologique | Grande école d’ingénieurs\\r\\nForme dans les domaines des technologies du numérique - Habilitée CTI.\" />\\n<link rel=\"shortcut icon\" href=\"https://www.esiee.fr/sites/all/themes/custom/esiee_theme/favicon.ico\" type=\"image/vnd.microsoft.icon\" />\\n  <title>ESIEE Paris, l’école de l’in'"
      ]
     },
     "execution_count": 5,
     "metadata": {},
     "output_type": "execute_result"
    }
   ],
   "source": [
    "response.text[0:1000]"
   ]
  },
  {
   "cell_type": "markdown",
   "metadata": {},
   "source": [
    "Pour récupérer les headers HTTP de la réponse :"
   ]
  },
  {
   "cell_type": "code",
   "execution_count": 6,
   "metadata": {},
   "outputs": [
    {
     "data": {
      "text/plain": [
       "{'Date': 'Sun, 24 Nov 2019 14:49:50 GMT', 'Server': 'Apache', 'Expires': 'Sun, 19 Nov 1978 05:00:00 GMT', 'Cache-Control': 'no-cache, must-revalidate', 'X-Content-Type-Options': 'nosniff', 'Content-Language': 'fr', 'X-Frame-Options': 'SAMEORIGIN', 'X-Generator': 'Drupal 7 (http://drupal.org)', 'Vary': 'Accept-Encoding', 'Content-Encoding': 'gzip', 'X-Robots-Tag': 'index,follow,noarchive', 'X-XSS-Protection': '1; mode=block', 'X-Download-Options': 'noopen;', 'X-Permitted-Cross-Domain-Policies': 'none', 'Content-Length': '16621', 'Keep-Alive': 'timeout=5, max=150', 'Connection': 'Keep-Alive', 'Content-Type': 'text/html; charset=utf-8'}"
      ]
     },
     "execution_count": 6,
     "metadata": {},
     "output_type": "execute_result"
    }
   ],
   "source": [
    "response.headers"
   ]
  },
  {
   "cell_type": "markdown",
   "metadata": {},
   "source": [
    "On peut modifier les paramêtres de la requête et/ou ses headers. On peut par exemple ajouter un UserAgent et un timeout de 10 secondes:"
   ]
  },
  {
   "cell_type": "code",
   "execution_count": 7,
   "metadata": {},
   "outputs": [
    {
     "data": {
      "text/plain": [
       "b'<!DOCTYPE html>\\n<!--[if lt IE 7]>      <html class=\"no-js lt-ie9 lt-ie8 lt-ie7\"> <![endif]-->\\n<!--[if IE 7]>         <html class=\"no-js lt-ie9 lt-ie8\"> <![endif]-->\\n<!--[if IE 8]>         <html class=\"no-js lt-ie9\"> <![endif]-->\\n<!--[if IE 9]>         <html class=\"no-js ie9\"> <![endif]-->\\n<!--[if gt IE 9]><!--> <html class=\"no-js\"> <!--<![endif]-->\\n<head profile=\"http://www.w3.org/1999/xhtml/vocab\">\\n  <meta name=\"google-site-verification\" content=\"JnG7DTdhQuWTeSHlWC63CeWpb3WValiOorksYjoYOWI\" />\\n  <meta http-equiv=\"Content-Type\" content=\"text/html; charset=utf-8\" />\\n<meta name=\"Generator\" content=\"Drupal 7 (http://drupal.org)\" />\\n<meta name=\"description\" content=\"ESIEE Paris, l\\xe2\\x80\\x99\\xc3\\xa9cole de l\\xe2\\x80\\x99innovation technologique | Grande \\xc3\\xa9cole d\\xe2\\x80\\x99ing\\xc3\\xa9nieurs\\r\\nForme dans les domaines des technologies du num\\xc3\\xa9rique - Habilit\\xc3\\xa9e CTI.\" />\\n<link rel=\"shortcut icon\" href=\"https://www.esiee.fr/sites/all/themes/custom/esiee_theme/favicon.ico\" type=\"image/vnd.microsoft.icon\" />\\n  <title>ESIEE Paris, l\\xe2\\x80\\x99'"
      ]
     },
     "execution_count": 7,
     "metadata": {},
     "output_type": "execute_result"
    }
   ],
   "source": [
    "headers = {'User-Agent': 'Mozilla/5.0 (Macintosh; Intel Mac OS X 10_10_1) AppleWebKit/537.36 (KHTML, like Gecko) Chrome/39.0.2171.95 Safari/537.36'}\n",
    "response = requests.get(url, headers=headers, timeout = 10)\n",
    "response.content[0:1000]"
   ]
  },
  {
   "cell_type": "markdown",
   "metadata": {},
   "source": [
    "## Exercice"
   ]
  },
  {
   "cell_type": "markdown",
   "metadata": {},
   "source": [
    "## Exercice 1\n",
    "\n",
    "- Créer une classe Python permettant de faire des requêtes HTTP.\n",
    "- Cette classe doit utiliser toujours le même UserAgent.\n",
    "- Le TimeOut sera spécifié à chaque appelle avec une valeur par défaut.\n",
    "- Un mécanisme de retry sera mis en place de façon recursive.\n",
    "\n",
    "## Exercice 2\n",
    "\n",
    "- Faire une fonction permettant de supprimer tous les espaces supperflus d'une string\n",
    "- Faire une fonction qui prend une string html et renvois une string intelligible (enlever les caractères spéciaux,\n",
    "- Récupérer le domaine en fonction d'un url"
   ]
  },
  {
   "cell_type": "code",
   "execution_count": 8,
   "metadata": {},
   "outputs": [],
   "source": [
    "# Exercice 1\n",
    "class RequestHTTP:\n",
    "    def __init__(self, user_agent):\n",
    "        self.headers = {'User-Agent':user_agent}\n",
    "        \n",
    "    def request(self, url, timeout, retries=0):\n",
    "        try :\n",
    "            response = requests.get(url, headers=self.headers, timeout = timeout)\n",
    "            return response.text\n",
    "        except requests.RequestException as e:\n",
    "            if retries < 5:\n",
    "                print(\"Request failed. Retrying...\")\n",
    "                return self.request(url,timeout, retries+1)\n",
    "            else:\n",
    "                print(\"Max retries reached. Unable to complete request.\")\n",
    "                return None\n",
    "    \n",
    "    def del_spaces(input_string):\n",
    "        return ' '.join(input_string.split())\n",
    "\n"
   ]
  },
  {
   "cell_type": "code",
   "execution_count": 10,
   "metadata": {},
   "outputs": [
    {
     "name": "stdout",
     "output_type": "stream",
     "text": [
      "['bjr', 'je', 'suis', '2']\n"
     ]
    }
   ],
   "source": [
    "# Exercice 2\n",
    "s = \"bjr je   suis  2\"\n",
    "r = s.split()\n",
    "print(r)"
   ]
  },
  {
   "cell_type": "code",
   "execution_count": 9,
   "metadata": {},
   "outputs": [
    {
     "data": {
      "text/plain": [
       "'<!DOCTYPE html>\\n<html lang=\"fr-FR\">\\n<head>\\n\\n<meta charset=\"utf-8\">\\n<!-- \\n\\tThis website is powered by TYPO3 - inspiring people to share!\\n\\tTYPO3 is a free open source Content Management Framework initially created by Kasper Skaarhoj and licensed under GNU/GPL.\\n\\tTYPO3 is copyright 1998-2023 of Kasper Skaarhoj. Extensions are copyright of their respective owners.\\n\\tInformation and contribution at https://typo3.org/\\n-->\\n\\n\\n\\n<title>ESIEE Paris, l&#039;école de l&#039;innovation technologique | ESIEE Paris</title>\\n<meta name=\"generator\" content=\"TYPO3 CMS\" />\\n<meta name=\"description\" content=\"Rejoignez ESIEE Paris, grande école d&#039;ingénieur dans les domaines des transitions numérique, énergétique et environnementale. Classée dans le groupe A, parmi les meilleures écoles d&#039;ingénieur selon le classement de l&#039;Etudiant. Habilitée par la Commission des Titres d&#039;Ingénieur (CTI). Membre de la Conférence des Grandes Ecoles (CGE). \" />\\n<meta name=\"viewport\" content=\"width=device-width, user-scalable=yes\" />\\n<meta property=\"og:type\" content=\"website\" />\\n<meta property=\"og:site_name\" content=\"ESIEE Paris\" />\\n<meta name=\"twitter:card\" content=\"summary\" />\\n\\n\\n<link rel=\"stylesheet\" href=\"/typo3temp/assets/css/7015c8c4ac5ff815b57530b221005fc6.css?1698312804\" media=\"all\">\\n<link rel=\"stylesheet\" href=\"/typo3conf/ext/powermail/Resources/Public/Css/Basic.css?1698312805\" media=\"all\">\\n<link rel=\"stylesheet\" href=\"/typo3conf/ext/solr/Resources/Public/StyleSheets/Frontend/results.css?1698312805\" media=\"all\">\\n<link rel=\"stylesheet\" href=\"/typo3conf/ext/solr/Resources/Public/StyleSheets/Frontend/loader.css?1698312805\" media=\"all\">\\n<link rel=\"stylesheet\" href=\"/typo3conf/ext/iconpack/Resources/Public/Css/Iconpack.min.css?1698312805\" media=\"all\">\\n<link rel=\"stylesheet\" href=\"/typo3conf/ext/solr/Resources/Public/StyleSheets/Frontend/suggest.css?1698312805\" media=\"all\">\\n<link rel=\"stylesheet\" href=\"/typo3conf/ext/esiee_sitepackage/Resources/Public/vendor/accessconfig/css/accessconfig.min.css?1698329546\" media=\"all\">\\n<link rel=\"stylesheet\" href=\"/typo3conf/ext/ameos_tarteaucitron/Resources/Public/libs/tarteaucitron.js/css/tarteaucitron.css?1698312805\" media=\"all\">\\n<link rel=\"stylesheet\" href=\"/typo3temp/assets/css/index.css?1699619134\" media=\"all\">\\n<link rel=\"stylesheet\" href=\"/typo3temp/assets/css/schema.css?1699619134\" media=\"all\">\\n\\n\\n\\n\\n\\n\\n<link rel=\"canonical\" href=\"https://www.esiee.fr/\"/>\\n\\n<link rel=\"alternate\" hreflang=\"fr-FR\" href=\"https://www.esiee.fr/\"/>\\n<link rel=\"alternate\" hreflang=\"en-US\" href=\"https://www.esiee.fr/en/\"/>\\n<link rel=\"alternate\" hreflang=\"x-default\" href=\"https://www.esiee.fr/\"/>\\n</head>\\n<body id=\"top\">\\n\\n<header class=\"header\">\\r\\n\\t<div class=\"skip-links\" role=\"region\">\\r\\n\\t<a href=\"/#content\">Aller au contenu</a>\\r\\n\\t<a href=\"/#menu\">Aller au menu</a>\\r\\n\\t<a href=\"/plan-du-site/\">Plan du site</a>\\r\\n</div>\\r\\n\\t\\r\\n\\t\\r\\n\\t\\t<div class=\"alerte\" role=\"alert\" id=\"esieealert-CC01\">\\r\\n\\t\\t\\t<div class=\"container\">\\r\\n\\t\\t\\t\\t<div class=\"d-flex\">\\r\\n\\t\\t\\t\\t\\t<div class=\"d-flex relative\">\\r\\n\\t\\t\\t\\t\\t\\t\\r\\n\\t\\t\\t\\t\\t\\t\\t<svg viewbox=\"0 0 448 512\" class=\"iconpack fas fa-bell\" fill=\"currentColor\" role=\"img\" data-iconfig=\"fa6:solid,bell\"><path d=\"M224 0c-17.7 0-32 14.3-32 32V51.2C119 66 64 130.6 64 208v18.8c0 47-17.3 92.4-48.5 127.6l-7.4 8.3c-8.4 9.4-10.4 22.9-5.3 34.4S19.4 416 32 416H416c12.6 0 24-7.4 29.2-18.9s3.1-25-5.3-34.4l-7.4-8.3C401.3 319.2 384 273.9 384 226.8V208c0-77.4-55-142-128-156.8V32c0-17.7-14.3-32-32-32zm45.3 493.3c12-12 18.7-28.3 18.7-45.3H224 160c0 17 6.7 33.3 18.7 45.3s28.3 18.7 45.3 18.7s33.3-6.7 45.3-18.7z\"/></svg>\\r\\n\\t\\t\\t\\t\\t\\t\\r\\n\\t\\t\\t\\t\\t\\t<div>\\r\\n\\t\\t\\t\\t\\t\\t\\t<p><a href=\"/nous-rencontrer-1\">Bien choisir son école, c&#039;est aussi la rencontrer  ! Rendez-vous à la prochaine journée portes ouvertes le 9 décembre.</a></p>\\r\\n\\t\\t\\t\\t\\t\\t</div>\\r\\n\\t\\t\\t\\t\\t</div>\\r\\n\\t\\t\\t\\t\\t<button aria-expanded=\"true\" aria-controls=\"esieealert-CC01\">\\r\\n\\t\\t\\t\\t\\t\\t<span class=\"fa-solid fa-circle-xmark\"></span>\\r\\n\\t\\t\\t\\t\\t\\t<span class=\"fa-regular fa-circle-xmark\"></span>\\r\\n\\t\\t\\t\\t\\t\\t<span class=\"sr-only\">Masquer l&#039;alerte</span>\\r\\n\\t\\t\\t\\t\\t</button>\\r\\n\\t\\t\\t\\t</div>\\r\\n\\t\\t\\t</div>\\r\\n\\t\\t</div>\\r\\n\\t\\r\\n\\r\\n\\t<div class=\"main-head\">\\r\\n\\t\\t<div class=\"container\">\\r\\n\\t\\t\\t<div class=\"row\">\\r\\n\\t\\t\\t\\t<div class=\"col-6 col-lg-3 logo\">\\r\\n\\t\\t\\t\\t\\t\\r\\n\\t\\t<h1>\\r\\n\\t<a href=\"/\"><img src=\"/typo3conf/ext/esiee_sitepackage/Resources/Public/imgs/svg/logo-esiee.svg\" alt=\"ESIEE PARIS\" class=\"a42-ac-replace-img\"></a>\\r\\n</h1>\\r\\n\\t\\r\\n\\r\\n\\t\\t\\t\\t</div>\\r\\n\\t\\t\\t\\t<div class=\"col-6 col-lg-3 content\" id=\"responsive-header\">\\r\\n\\t\\t\\t\\t\\t<div class=\"top-menu\">\\r\\n\\t\\t\\t\\t\\t\\t<ul class=\"quick-access\"><li><a href=\"/brochures-1\">Brochures</a></li><li><a href=\"/informations/etudiantes-et-etudiants\">Espace élèves</a></li></ul>\\r\\n\\t\\t\\t\\t\\t\\t\\r\\n    <ul class=\"language\">\\r\\n        \\r\\n            <li class=\"active \">\\r\\n                \\r\\n                        <a href=\"/\" hreflang=\"fr-FR\" title=\"Français\">\\r\\n                            <span>Fr</span>\\r\\n                        </a>\\r\\n                    \\r\\n            </li>\\r\\n        \\r\\n            <li class=\" \">\\r\\n                \\r\\n                        <a href=\"/en/\" hreflang=\"en-US\" title=\"English\">\\r\\n                            <span>En</span>\\r\\n                        </a>\\r\\n                    \\r\\n            </li>\\r\\n        \\r\\n    </ul>\\r\\n\\r\\n\\t\\t\\t\\t\\t\\t<div id=\"accessconfig\" title=\"Paramètres d&#039;accessibilité\" data-accessconfig-buttonname=\"\" data-accessconfig-params=\\'{ \"Prefix\" : \"a42-ac\", \"ContainerClass\" : \"\",\"ModalCloseButton\" : \"\",\"ModalTitle\" : \"\",\"FormFieldset\" : \"\",\"FormFieldsetLegend\" : \"\",\"FormRadio\" : \"\"}\\' ></div>\\r\\n\\t\\t\\t\\t\\t\\t<div class=\"searchbox\">\\r\\n\\t<button aria-expanded=\"false\" aria-controls=\"searchbox-header-form\" class=\"toggler\">\\r\\n\\t\\t<i class=\"fa-solid fa-magnifying-glass\"></i>\\r\\n\\t\\t<i class=\"fa-solid fa-xmark\"></i>\\r\\n\\t\\t<span class=\"sr-only\">\\r\\n\\t\\t\\t<span class=\"display\">Afficher</span><span class=\"hide\">Masquer</span> la recherche\\r\\n\\t\\t</span>\\r\\n\\t</button>\\r\\n\\t<form action=\"/rechercher\" data-suggest-header=\"Meilleurs résultats\" data-suggest=\"/rechercher?type=7384\" method=\"get\" id=\"searchbox-header-form\">\\r\\n\\t\\t<div>\\r\\n\\t\\t\\t<label for=\"searchbox-header-form-input\" class=\"sr-only\">Saisissez votre recherche&nbsp;:</label>\\r\\n\\t\\t\\t<input type=\"text\" class=\"tx-solr-suggest\" name=\"tx_solr[q]\" id=\"searchbox-header-form-input\" placeholder=\"Rechercher une information\">\\r\\n\\t\\t\\t<button type=\"submit\"><i class=\"fa-solid fa-magnifying-glass\"></i><span class=\"sr-only\">Lancer la recherche</span></button>\\r\\n\\t\\t</div>\\r\\n\\t</form>\\r\\n</div>\\r\\n\\t\\t\\t\\t\\t\\t<ul class=\"button-list\"><li><a href=\"/candidater-1\">Candidater</a></li></ul>\\r\\n\\t\\t\\t\\t\\t\\t<button class=\"menu-toggler\" aria-controls=\"responsive-header\" aria-expanded=\"false\">\\r\\n\\t<span class=\"sr-only\"><span class=\"display\">Afficher</span><span class=\"hide\">Masquer</span> le menu</span>\\r\\n\\t<span class=\"fa-solid fa-bars\"></span>\\r\\n\\t<span class=\"fa-regular fa-circle-xmark\"></span>\\r\\n</button>\\r\\n\\t\\t\\t\\t\\t</div>\\r\\n\\t\\t\\t\\t\\t<nav class=\"menu\">\\r\\n<button class=\"main-toggler\">Retour au menu principal</button><ul class=\"align-self-end\"><li><button class=\"toggler\" aria-expanded=\"false\" aria-controls=\"submenu-40\"><span class=\"sr-only\"><span class=\"display\">Afficher</span><span class=\"hide\">Masquer</span> le sous menu&nbsp;: </span>L\\'école</button><div class=\"submenu\" id=\"submenu-40\"><div class=\"wrapper\"><div class=\"container\"><ul><li class=\"first-item\"><a href=\"/lecole/pourquoi-choisir-esiee-paris\">Pourquoi choisir ESIEE Paris ?</a></li><li><button class=\"toggler\" aria-expanded=\"false\" aria-controls=\"submenu-563\"><span class=\"sr-only\"><span class=\"display\">Afficher</span><span class=\"hide\">Masquer</span> le sous menu&nbsp;: </span>Gouvernance et conseils</button><div class=\"submenu\" id=\"submenu-563\"><div class=\"container\"><ul><li><a href=\"/lecole/gouvernance-et-conseils/gouvernance-et-conseils\">Gouvernance et conseils</a></li></ul></div></div></li><li><button class=\"toggler\" aria-expanded=\"false\" aria-controls=\"submenu-65\"><span class=\"sr-only\"><span class=\"display\">Afficher</span><span class=\"hide\">Masquer</span> le sous menu&nbsp;: </span>Départements d\\'enseignements et de recherche</button><div class=\"submenu\" id=\"submenu-65\"><div class=\"container\"><ul><li><a href=\"/lecole/departements-denseignements-et-de-recherche/informatique-et-telecommunications\">Informatique et télécommunications</a></li><li><a href=\"/lecole/departements-denseignements-et-de-recherche/ingenierie-des-systemes-cyberphysiques\">Ingénierie des systèmes cyberphysiques</a></li><li><a href=\"/lecole/departements-denseignements-et-de-recherche/ingenierie-industrielle\">Ingénierie industrielle</a></li><li><a href=\"/lecole/departements-denseignements-et-de-recherche/sante-energie-et-environnement-durable\">Santé, énergie et environnement durable</a></li><li><a href=\"/lecole/departements-denseignements-et-de-recherche/management-sciences-humaines-et-langues\">Management, sciences humaines et langues</a></li></ul></div></div></li><li><a href=\"/lecole/corps-professoral\">Corps professoral</a></li><li><button class=\"toggler\" aria-expanded=\"false\" aria-controls=\"submenu-67\"><span class=\"sr-only\"><span class=\"display\">Afficher</span><span class=\"hide\">Masquer</span> le sous menu&nbsp;: </span>Salles blanches</button><div class=\"submenu\" id=\"submenu-67\"><div class=\"container\"><ul><li><a href=\"/lecole/salles-blanches/salles-blanches\">Salles blanches</a></li><li><a href=\"/lecole/salles-blanches/equipements-et-procedes\">Équipements et procédés</a></li><li><a href=\"/lecole/salles-blanches/formation\">Formation</a></li><li><a href=\"/lecole/salles-blanches/recherche\">Recherche</a></li><li><a href=\"/lecole/salles-blanches/collaborations-industrielles\">Collaborations industrielles</a></li></ul></div></div></li><li><button class=\"toggler\" aria-expanded=\"false\" aria-controls=\"submenu-325\"><span class=\"sr-only\"><span class=\"display\">Afficher</span><span class=\"hide\">Masquer</span> le sous menu&nbsp;: </span>Alumni</button><div class=\"submenu\" id=\"submenu-325\"><div class=\"container\"><ul><li><a href=\"/lecole/alumni/le-reseau\">Le réseau</a></li><li><a href=\"/lecole/alumni/wall-of-fame\">Wall of fame</a></li></ul></div></div></li><li><a href=\"/lecole/visite-virtuelle-esiee-paris\">Visite virtuelle ESIEE Paris</a></li><li><a href=\"/lecole/esiee-paris-recrute\">ESIEE Paris recrute</a></li><li><a href=\"/lecole/location-despaces\">Location d\\'espaces</a></li></ul><div><button class=\"toggler close-only\" aria-expanded=\"false\" aria-controls=\"submenu-40\"><span class=\"sr-only\">fermer le sous menu&nbsp;:L\\'école</span></button></div></div></div></div></li><li><button class=\"toggler\" aria-expanded=\"false\" aria-controls=\"submenu-16\"><span class=\"sr-only\"><span class=\"display\">Afficher</span><span class=\"hide\">Masquer</span> le sous menu&nbsp;: </span>Formations</button><div class=\"submenu\" id=\"submenu-16\"><div class=\"wrapper\"><div class=\"container\"><ul><li class=\"first-item\"><a href=\"/formations/les-formations-esiee-paris\">Les formations ESIEE Paris</a></li><li><button class=\"toggler\" aria-expanded=\"false\" aria-controls=\"submenu-136\"><span class=\"sr-only\"><span class=\"display\">Afficher</span><span class=\"hide\">Masquer</span> le sous menu&nbsp;: </span>Ingénieur</button><div class=\"submenu\" id=\"submenu-136\"><div class=\"container\"><ul><li><a href=\"/formations/ingenieur/ingenieur-a-esiee-paris\">Ingénieur à ESIEE Paris</a></li><li><a href=\"/formations/ingenieur/le-premier-cycle\">Le premier cycle</a></li><li><a href=\"/formations/ingenieur/le-cycle-ingenieur\">Le cycle ingénieur</a></li><li><a href=\"/formations/ingenieur/double-diplomes\">Double-diplômes</a></li><li><button class=\"toggler\" aria-expanded=\"false\" aria-controls=\"submenu-145\"><span class=\"sr-only\"><span class=\"display\">Afficher</span><span class=\"hide\">Masquer</span> le sous menu&nbsp;: </span>Filières</button><div class=\"submenu\" id=\"submenu-145\"><div class=\"container\"><ul><li><a href=\"/formations/ingenieur/filieres/nos-filieres\">Nos filières</a></li><li><a href=\"/formations/ingenieur/filieres/informatique\">Informatique</a></li><li><a href=\"/formations/ingenieur/filieres/cybersecurite\">Cybersécurité</a></li><li><a href=\"/formations/ingenieur/filieres/data-science-et-intelligence-artificielle\">Data science et intelligence artificielle</a></li><li><a href=\"/formations/ingenieur/filieres/artificial-intelligence-and-cybersecurity\">Artificial intelligence and cybersecurity</a></li><li><a href=\"/formations/ingenieur/filieres/systemes-embarques\">Systèmes embarqués</a></li><li><a href=\"/formations/ingenieur/filieres/systemes-electroniques-intelligents\">Systèmes électroniques intelligents</a></li><li><a href=\"/formations/ingenieur/filieres/genie-industriel\">Génie industriel</a></li><li><a href=\"/formations/ingenieur/filieres/biotechnologies-et-e-sante\">Biotechnologies et e-santé</a></li><li><a href=\"/formations/ingenieur/filieres/energie\">Energie</a></li><li><a href=\"/formations/ingenieur/filieres/imac\">IMAC</a></li></ul></div></div></li><li><a href=\"/formations/ingenieur/stages\">Stages</a></li><li><a href=\"/formations/ingenieur/insertion-professionnelle\">Insertion professionnelle</a></li><li><a href=\"/formations/ingenieur/frais-de-scolarite-et-aides-financieres\">Frais de scolarité et aides financières</a></li></ul></div></div></li><li><button class=\"toggler\" aria-expanded=\"false\" aria-controls=\"submenu-137\"><span class=\"sr-only\"><span class=\"display\">Afficher</span><span class=\"hide\">Masquer</span> le sous menu&nbsp;: </span>Ingénieur par apprentissage</button><div class=\"submenu\" id=\"submenu-137\"><div class=\"container\"><ul><li><a href=\"/formations/ingenieur-par-apprentissage/devenir-ingenieur-par-apprentissage\">Devenir ingénieur par apprentissage</a></li><li><a href=\"/formations/ingenieur-par-apprentissage/informatique-et-applications\">Informatique et applications</a></li><li><a href=\"/formations/ingenieur-par-apprentissage/informatique-design-architecture-et-developpement\">Informatique, design, architecture et développement</a></li><li><a href=\"/formations/ingenieur-par-apprentissage/reseaux-et-securite\">Réseaux et sécurité</a></li><li><a href=\"/formations/ingenieur-par-apprentissage/electronique-et-informatique\">Electronique et informatique</a></li><li><a href=\"/formations/ingenieur-par-apprentissage/systemes-embarques\">Systèmes embarqués</a></li><li><a href=\"/formations/ingenieur-par-apprentissage/genie-industriel\">Génie industriel</a></li><li><a href=\"/formations/ingenieur-par-apprentissage/genie-mecanique\">Génie mécanique</a></li><li><a href=\"/formations/ingenieur-par-apprentissage/maintenance-et-fiabilite-des-processus-industriels\">Maintenance et fiabilité des processus industriels</a></li><li><a href=\"/formations/ingenieur-par-apprentissage/energies\">Énergies</a></li><li><a href=\"/formations/ingenieur-par-apprentissage/genie-civil\">Génie civil</a></li><li><a href=\"/formations/ingenieur-par-apprentissage/diplome-universitaire-du\">Diplôme universitaire - DU</a></li></ul></div></div></li><li><a href=\"/formations/bachelor\">Bachelor</a></li><li><button class=\"toggler\" aria-expanded=\"false\" aria-controls=\"submenu-139\"><span class=\"sr-only\"><span class=\"display\">Afficher</span><span class=\"hide\">Masquer</span> le sous menu&nbsp;: </span>Programmes internationaux</button><div class=\"submenu\" id=\"submenu-139\"><div class=\"container\"><ul><li><a href=\"/formations/programmes-internationaux/programmes-internationaux\">Programmes internationaux</a></li><li><a href=\"/formations/programmes-internationaux/filliere-artificial-intelligence-and-cybersecurity\">Fillière artificial intelligence and cybersecurity</a></li><li><a href=\"/formations/programmes-internationaux/msc-management-of-technology-information-systems\">M.Sc Management of technology - Information systems</a></li></ul></div></div></li><li><a href=\"/formations/licence-professionnelle\">Licence professionnelle</a></li><li><button class=\"toggler\" aria-expanded=\"false\" aria-controls=\"submenu-140\"><span class=\"sr-only\"><span class=\"display\">Afficher</span><span class=\"hide\">Masquer</span> le sous menu&nbsp;: </span>Formation continue</button><div class=\"submenu\" id=\"submenu-140\"><div class=\"container\"><ul><li><a href=\"/formations/formation-continue/formation-continue\">Formation continue</a></li><li><button class=\"toggler\" aria-expanded=\"false\" aria-controls=\"submenu-173\"><span class=\"sr-only\"><span class=\"display\">Afficher</span><span class=\"hide\">Masquer</span> le sous menu&nbsp;: </span>Programmes courts salles blanches</button><div class=\"submenu\" id=\"submenu-173\"><div class=\"container\"><ul><li><a href=\"/formations/formation-continue/programmes-courts-salles-blanches/decouverte-des-technologies-de-salles-blanches\">Découverte des technologies de salles blanches</a></li><li><a href=\"/formations/formation-continue/programmes-courts-salles-blanches/initiation-aux-technologies-de-microfabrication\">Initiation aux technologies de microfabrication</a></li></ul></div></div></li></ul></div></div></li></ul><div><button class=\"toggler close-only\" aria-expanded=\"false\" aria-controls=\"submenu-16\"><span class=\"sr-only\">fermer le sous menu&nbsp;:Formations</span></button></div></div></div></div></li><li><button class=\"toggler\" aria-expanded=\"false\" aria-controls=\"submenu-82\"><span class=\"sr-only\"><span class=\"display\">Afficher</span><span class=\"hide\">Masquer</span> le sous menu&nbsp;: </span>Recherche</button><div class=\"submenu\" id=\"submenu-82\"><div class=\"wrapper\"><div class=\"container\"><ul><li class=\"first-item\"><a href=\"/recherche/la-recherche-a-esiee-paris\">La recherche à ESIEE Paris</a></li><li><a href=\"/recherche/3-axes-de-recherche\">3 axes de recherche</a></li><li><a href=\"/recherche/projets-de-recherche\">Projets de recherche</a></li><li><a href=\"/recherche/laboratoires\">Laboratoires</a></li><li><a href=\"/recherche/publications\">Publications</a></li><li><a href=\"/recherche/plateformes-et-equipements\">Plateformes et équipements</a></li><li><a href=\"/recherche/partenariats-entreprise\">Partenariats entreprise</a></li><li><a href=\"/recherche/se-former-a-la-recherche\">Se former à la recherche</a></li></ul><div><button class=\"toggler close-only\" aria-expanded=\"false\" aria-controls=\"submenu-82\"><span class=\"sr-only\">fermer le sous menu&nbsp;:Recherche</span></button></div></div></div></div></li><li><button class=\"toggler\" aria-expanded=\"false\" aria-controls=\"submenu-94\"><span class=\"sr-only\"><span class=\"display\">Afficher</span><span class=\"hide\">Masquer</span> le sous menu&nbsp;: </span>Vie de campus</button><div class=\"submenu\" id=\"submenu-94\"><div class=\"wrapper\"><div class=\"container\"><ul><li class=\"first-item\"><a href=\"/vie-de-campus/la-vie-sur-le-campus\">La vie sur le campus</a></li><li><button class=\"toggler\" aria-expanded=\"false\" aria-controls=\"submenu-96\"><span class=\"sr-only\"><span class=\"display\">Afficher</span><span class=\"hide\">Masquer</span> le sous menu&nbsp;: </span>Services aux élèves</button><div class=\"submenu\" id=\"submenu-96\"><div class=\"container\"><ul><li><a href=\"/vie-de-campus/services-aux-eleves/financer-vos-etudes\">Financer vos études</a></li><li><a href=\"/vie-de-campus/services-aux-eleves/amenagements-detude\">Aménagements d\\'étude</a></li><li><a href=\"/vie-de-campus/services-aux-eleves/assistetud-et-relais-handicap\">Assist\\'Étud et relais Handicap</a></li><li><a href=\"/vie-de-campus/services-aux-eleves/sante\">Santé</a></li><li><a href=\"/vie-de-campus/services-aux-eleves/logements\">Logements</a></li></ul></div></div></li><li><a href=\"/vie-de-campus/vie-associative-et-culturelle\">Vie associative et culturelle</a></li><li><button class=\"toggler\" aria-expanded=\"false\" aria-controls=\"submenu-98\"><span class=\"sr-only\"><span class=\"display\">Afficher</span><span class=\"hide\">Masquer</span> le sous menu&nbsp;: </span>Ressources</button><div class=\"submenu\" id=\"submenu-98\"><div class=\"container\"><ul><li><a href=\"/vie-de-campus/ressources/ressources-numeriques\">Ressources numériques</a></li><li><a href=\"/vie-de-campus/ressources/espace-de-travail-partage\">Espace de travail partagé</a></li><li><a href=\"/vie-de-campus/ressources/centre-de-langues\">Centre de langues</a></li><li><a href=\"/vie-de-campus/ressources/laboratoires-denseignement\">Laboratoires d\\'enseignement</a></li><li><a href=\"/vie-de-campus/ressources/ordinateurs-portables\">Ordinateurs portables</a></li></ul></div></div></li><li><a href=\"/vie-de-campus/restauration\">Restauration</a></li><li><a href=\"/vie-de-campus/sport\">Sport</a></li></ul><div><button class=\"toggler close-only\" aria-expanded=\"false\" aria-controls=\"submenu-94\"><span class=\"sr-only\">fermer le sous menu&nbsp;:Vie de campus</span></button></div></div></div></div></li><li><button class=\"toggler\" aria-expanded=\"false\" aria-controls=\"submenu-110\"><span class=\"sr-only\"><span class=\"display\">Afficher</span><span class=\"hide\">Masquer</span> le sous menu&nbsp;: </span>International</button><div class=\"submenu\" id=\"submenu-110\"><div class=\"wrapper\"><div class=\"container\"><ul><li class=\"first-item\"><a href=\"/international/une-large-ouverture-a-linternational\">Une large ouverture à l\\'international</a></li><li><a href=\"/international/partenaires-academiques\">Partenaires académiques</a></li><li><a href=\"/international/etudiants-en-echange\">Etudiants en échange</a></li><li><a href=\"/international/partir-etudier-a-linternational\">Partir étudier à l\\'international</a></li><li><a href=\"/formations/programmes-internationaux/programmes-internationaux\">Programmes internationaux</a></li><li><a href=\"/international/organiser-votre-sejour-a-esiee-paris\">Organiser votre séjour à ESIEE Paris</a></li><li><a href=\"/international/campus-a-letranger\">Campus à l\\'étranger</a></li></ul><div><button class=\"toggler close-only\" aria-expanded=\"false\" aria-controls=\"submenu-110\"><span class=\"sr-only\">fermer le sous menu&nbsp;:International</span></button></div></div></div></div></li><li><button class=\"toggler\" aria-expanded=\"false\" aria-controls=\"submenu-116\"><span class=\"sr-only\"><span class=\"display\">Afficher</span><span class=\"hide\">Masquer</span> le sous menu&nbsp;: </span>Entreprises</button><div class=\"submenu\" id=\"submenu-116\"><div class=\"wrapper\"><div class=\"container\"><ul><li class=\"first-item\"><a href=\"/entreprises/entreprises\">Entreprises</a></li><li><a href=\"http://esiee.jobteaser.com/fr/recruiter_account/job_offers\" target=\"_blank\">Déposez une offre</a></li><li><a href=\"/entreprises/entreprises-partenaires\">Entreprises partenaires</a></li><li><a href=\"/entreprises/devenez-partenaire\">Devenez partenaire</a></li><li><button class=\"toggler\" aria-expanded=\"false\" aria-controls=\"submenu-120\"><span class=\"sr-only\"><span class=\"display\">Afficher</span><span class=\"hide\">Masquer</span> le sous menu&nbsp;: </span>Recrutez des élèves</button><div class=\"submenu\" id=\"submenu-120\"><div class=\"container\"><ul><li><a href=\"/entreprises/recrutez-des-eleves/recrutez-vos-stagiaires\">Recrutez vos stagiaires</a></li><li><a href=\"/entreprises/recrutez-des-eleves/recrutez-vos-apprentis\">Recrutez vos apprentis</a></li></ul></div></div></li><li><a href=\"/entreprises/developpez-vos-projets-technologiques\">Développez vos projets technologiques</a></li><li><button class=\"toggler\" aria-expanded=\"false\" aria-controls=\"submenu-263\"><span class=\"sr-only\"><span class=\"display\">Afficher</span><span class=\"hide\">Masquer</span> le sous menu&nbsp;: </span>Soutenez ESIEE Paris</button><div class=\"submenu\" id=\"submenu-263\"><div class=\"container\"><ul><li><a href=\"/entreprises/soutenez-esiee-paris/devenez-mecene\">Devenez mécène</a></li><li><a href=\"/entreprises/soutenez-esiee-paris/versez-votre-taxe-dapprentissage\">Versez votre taxe d\\'apprentissage</a></li></ul></div></div></li><li><a href=\"/formations/formation-continue/formation-continue\">Formez vos collaborateurs</a></li></ul><div><button class=\"toggler close-only\" aria-expanded=\"false\" aria-controls=\"submenu-116\"><span class=\"sr-only\">fermer le sous menu&nbsp;:Entreprises</span></button></div></div></div></div></li></ul>\\r\\n<ul class=\"quick-access\"><li><a href=\"/brochures-1\">Brochures</a></li><li><a href=\"/informations/etudiantes-et-etudiants\">Espace élèves</a></li></ul>\\r\\n</nav>\\r\\n\\t\\t\\t\\t</div>\\r\\n\\t\\t\\t</div>\\r\\n\\t\\t</div>\\r\\n\\t</div>\\r\\n</header>\\n<main class=\"main\" id=\"content\">\\n\\t\\n        <!--TYPO3SEARCH_begin--><div id=\"c29\" class=\"frame frame-default frame-type-esieesitepackage_landingslider frame-layout-0\"><section class=\"landing landing-slider\"><span class=\"lazy-wrapper\" style=\"max-height: 1080px;\"><img src=\"data:image/gif;base64,R0lGODlhAQABAIAAAP///wAAACH5BAEAAAAALAAAAAABAAEAAAICRAEAOw==\" data-src=\"/fileadmin/_processed_/2/4/csm_ESIEE-Home-Main-Picture_ff09bd6b6e.jpg\" width=\"1920\" height=\"1080\" class=\"\" alt=\"\" /><noscript><img width=\"1920\" height=\"1080\" class=\"\" alt=\"\" src=\"/fileadmin/_processed_/2/4/csm_ESIEE-Home-Main-Picture_ff09bd6b6e.jpg\" /></noscript></span><div class=\"swiper swiper-1-slide-per-view\"><div class=\"swiper-wrapper\"><div class=\"swiper-slide\"><div class=\"container\"><h2 class=\"h1-like\">ESIEE Paris, <strong>l’école de</strong><br>\\nl&#039;innovation <strong>technologique</strong></h2><div class=\"cke_editable\"><p>ESIEE Paris, n°2 <a href=\"/actualites/classements\" target=\"_blank\" title=\"Ouvre une nouvelle fenêtre\">des écoles d’ingénieurs post-bac</a> d’Ile-de-France selon le Palmarès « L’Etudiant 2023 ».</p></div></div></div><div class=\"swiper-slide\"><div class=\"container\"><h2 class=\"h1-like\">Venez aux journées <br><strong>portes ouvertes ESIEE Paris</strong></h2><div class=\"cke_editable\"><p>Bien choisir son école, c\\'est aussi <a href=\"/nous-rencontrer-1\" target=\"_blank\" title=\"Ouvre une nouvelle fenêtre\">la rencontrer</a> !</p></div></div></div><div class=\"swiper-slide\"><div class=\"container\"><h2 class=\"h1-like\">Envie d’en savoir plus sur la réalité de la vie d’un élève en école d’ingénieurs ?</h2><div class=\"cke_editable\"><p><a href=\"/actualites/lesiee-cest-ladopter-journee-dimmersion-a-esiee-paris\">Journées d\\'immersion</a> à ESIEE Paris<br> Mercredi 13 décembre 2023 ou mercredi 24 janvier 2024</p></div></div></div></div><div class=\"swiper-navigation\"><div><div class=\"swiper-button-prev\"></div><div class=\"swiper-button-next\"></div></div></div></div></section></div><div id=\"c30\" class=\"frame frame-default frame-type-esieesitepackage_searchbox frame-layout-0\"><section class=\"searchbox\"><h2 class=\"sr-only\">Barre de recherche</h2><div class=\"container\"><div class=\"searchbox\"><button aria-expanded=\"false\" aria-controls=\"searchbox-30-form\" class=\"toggler\"><i class=\"fa-solid fa-magnifying-glass\"></i><i class=\"fa-solid fa-xmark\"></i><span class=\"sr-only\"><span class=\"display\">Afficher</span><span class=\"hide\">Masquer</span> la recherche\\r\\n\\t\\t</span></button><form action=\"/rechercher\" data-suggest-header=\"Meilleurs résultats\" data-suggest=\"/rechercher?type=7384\" method=\"get\" id=\"searchbox-30-form\"><div><label for=\"searchbox-30-form-input\" class=\"sr-only\">Saisissez votre recherche&nbsp;:</label><input type=\"text\" class=\"tx-solr-suggest\" name=\"tx_solr[q]\" id=\"searchbox-30-form-input\" placeholder=\"Rechercher une information\"><button type=\"submit\"><i class=\"fa-solid fa-magnifying-glass\"></i><span class=\"sr-only\">Lancer la recherche</span></button></div></form></div></div></section></div><div id=\"c34\" class=\"frame frame-default frame-type-esieesitepackage_containersection frame-layout-0\"><section class=\"\"><div class=\"container\"><div id=\"c1688\" class=\"frame frame-default frame-type-textpic frame-layout-0\"><div class=\"ce-textpic ce-center ce-above\"><div class=\"ce-bodytext\"><div class=\"cke_editable\"><h3><strong>Découvrez ESIEE Paris !</strong> Une école d\\'ingénieurs spécialisée dans les domaines des transitions numériques, énergétiques et environnementales. Parmi nos illustres anciens élèves, <strong>Marcel Dassault</strong>, fondateur du groupe Dassault Aviation et\\xa0<strong>Yann LeCun</strong>, à l\\'origine de la révolution actuelle de l\\'intelligence artificielle.</h3><p><a href=\"/lecole/pourquoi-choisir-esiee-paris\" class=\"btn-primary\">Pourquoi choisir ESIEE Paris ?</a>\\xa0<a href=\"/lecole/visite-virtuelle-esiee-paris\" class=\"btn-primary\">Visite virtuelle</a></p></div></div></div></div></div></section></div><div id=\"c32\" class=\"frame frame-default frame-type-esieesitepackage_containersection frame-layout-0\"><section class=\"bg-light\"><div class=\"container\"><div id=\"c9\" class=\"frame frame-default frame-type-list frame-layout-0\"><header><h2 class=\"\" id=\"c9-header\">\\n                Nos <strong>formations</strong></h2></header><ul class=\"cta secondary has-pill\"><li class=\"col-12 col-md-6 col-lg-4\"><a class=\"pill\" href=\"/formations/ingenieur/ingenieur-a-esiee-paris\"><h3 class=\"uppercase\">Ingénieur</h3></a><p>3 ou 5 ans, accès post-bac ou bac&nbsp;+2/3</p><p><strong><i class=\"fa-solid fa-code-branch\"></i> 10 filières</strong></p></li><li class=\"col-12 col-md-6 col-lg-4\"><a class=\"pill\" href=\"/formations/ingenieur-par-apprentissage/devenir-ingenieur-par-apprentissage\"><h3 class=\"uppercase\">Ingénieur par apprentissage</h3></a><p>3&nbsp; ans, accès bac&nbsp;+2/3</p><p><strong><i class=\"fa-solid fa-code-branch\"></i> 10 filières</strong></p></li><li class=\"col-12 col-md-6 col-lg-4\"><a class=\"pill\" href=\"/formations/programmes-internationaux/programmes-internationaux\"><h3 class=\"uppercase\">Programmes internationaux</h3></a><p>18 ou 24 mois, accès bachelor, bac&nbsp;+4</p><p><strong><i class=\"fa-solid fa-code-branch\"></i> 2 programmes</strong></p></li><li class=\"col-12 col-md-6 col-lg-4\"><a class=\"pill\" href=\"/formations/bachelor\"><h3 class=\"uppercase\">Bachelor</h3></a><p>3 ans, accès post-bac</p><p><strong><i class=\"fa-solid fa-code-branch\"></i> 1 programme</strong></p></li><li class=\"col-12 col-md-6 col-lg-4\"><a class=\"pill\" href=\"/formations/licence-professionnelle\"><h3 class=\"uppercase\">Licence professionnelle</h3></a><p>1 an, accès bac&nbsp;+2/3</p><p><strong><i class=\"fa-solid fa-code-branch\"></i> 1 programme</strong></p></li><li class=\"col-12 col-md-6 col-lg-4\"><a class=\"pill\" href=\"/formations/formation-continue/formation-continue\"><h3 class=\"uppercase\">Formation continue</h3></a><p>Programmes pour les professionnels</p></li></ul></div></div></section></div><div id=\"c4\" class=\"frame frame-default frame-type-esieesitepackage_containersection frame-layout-0\"><section class=\"\"><div class=\"container\"><div id=\"c7\" class=\"frame frame-default frame-type-list frame-layout-0\"><header><h2 class=\"\" id=\"c7-header\"><strong>Les news</strong> de l&#039;école\\n            </h2></header><!--TYPO3SEARCH_end--><div class=\"swiper swiper-3-slide-per-view\"><div class=\"swiper-wrapper\"><div class=\"swiper-slide\"><div class=\"article-shortcut article-shortcut-event\"><span class=\"lazy-wrapper\" style=\"max-height: 232px;\"><img src=\"data:image/gif;base64,R0lGODlhAQABAIAAAP///wAAACH5BAEAAAAALAAAAAABAAEAAAICRAEAOw==\" data-src=\"/fileadmin/_processed_/1/e/csm_eleves-groupe-galerie-1344x840_0f06698b28.jpg\" width=\"370\" height=\"232\" class=\"\" alt=\"\" /><noscript><img width=\"370\" height=\"232\" class=\"\" alt=\"\" src=\"/fileadmin/_processed_/1/e/csm_eleves-groupe-galerie-1344x840_0f06698b28.jpg\" /></noscript></span><div class=\"content\"><p class=\"meta\"><span class=\"category\">\\n                \\n                    Portes ouvertes\\n                \\n            </span><span class=\"date\">\\n                \\n                        09 décembre 2023                        \\n                                        \\n            </span></p><h3><a title=\"ESIEE Paris vous ouvre ses portes\" href=\"/actualites/journees-portes-ouvertes-esiee-paris-vous-donne-rendez-vous\">ESIEE Paris vous ouvre ses portes</a></h3><p>Samedi 9 décembre 2023 | Samedi 3 février 2024 | Samedi 2 mars 2024</p></div></div></div><div class=\"swiper-slide\"><div class=\"article-shortcut article-shortcut-event\"><span class=\"lazy-wrapper\" style=\"max-height: 232px;\"><img src=\"data:image/gif;base64,R0lGODlhAQABAIAAAP///wAAACH5BAEAAAAALAAAAAABAAEAAAICRAEAOw==\" data-src=\"/fileadmin/_processed_/6/2/csm_forum-descartes-rue-2019-1344x840_eb74cce508.jpg\" width=\"370\" height=\"232\" class=\"\" alt=\"\" /><noscript><img width=\"370\" height=\"232\" class=\"\" alt=\"\" src=\"/fileadmin/_processed_/6/2/csm_forum-descartes-rue-2019-1344x840_eb74cce508.jpg\" /></noscript></span><div class=\"content\"><p class=\"meta\"><span class=\"category\">\\n                \\n                    Entreprises\\n                \\n            </span><span class=\"date\">\\n                16 novembre 2023                    \\n            </span></p><h3><a title=\"Forum pour l’emploi ESIEE Paris : jeudi 16 novembre 2023\" href=\"/actualites/forum-pour-lemploi-esiee-paris-jeudi-16-novembre-2023\">Forum pour l’emploi ESIEE Paris : jeudi 16 novembre 2023</a></h3><p>Jeudi 16 novembre de 10  h à 17  h, ESIEE Paris organise son forum de recrutement annuel au sein de l’école. </p></div></div></div><div class=\"swiper-slide\"><div class=\"article-shortcut\"><span class=\"lazy-wrapper\" style=\"max-height: 232px;\"><img src=\"data:image/gif;base64,R0lGODlhAQABAIAAAP///wAAACH5BAEAAAAALAAAAAABAAEAAAICRAEAOw==\" data-src=\"/fileadmin/_processed_/c/8/csm_illustration-concours-jeunes-talents-orange-2023-1344x840_b06c9809ff.jpg\" width=\"370\" height=\"232\" class=\"\" alt=\"\" /><noscript><img width=\"370\" height=\"232\" class=\"\" alt=\"\" src=\"/fileadmin/_processed_/c/8/csm_illustration-concours-jeunes-talents-orange-2023-1344x840_b06c9809ff.jpg\" /></noscript></span><div class=\"content\"><p class=\"meta\"><span class=\"category\">\\n                \\n                    Entreprises\\n                \\n            </span></p><h3><a title=\"Des élèves ESIEE Paris participent au Concours jeunes talents Orange 2023\" href=\"/actualites/des-eleves-esiee-paris-participent-au-concours-jeunes-talents-orange-2023\">Des élèves ESIEE Paris participent au Concours jeunes talents Orange 2023</a></h3><p>Orange lance la 9e édition de son concours jeunes talents Orange sur le thème &quot;  Réduire ensemble l’impact...</p></div></div></div><div class=\"swiper-slide\"><div class=\"article-shortcut article-shortcut-event\"><span class=\"lazy-wrapper\" style=\"max-height: 232px;\"><img src=\"data:image/gif;base64,R0lGODlhAQABAIAAAP///wAAACH5BAEAAAAALAAAAAABAAEAAAICRAEAOw==\" data-src=\"/fileadmin/_processed_/8/a/csm_trophee-des-femmes-prix-debut-prometteur-2023-1344x840_72d113e61b.jpg\" width=\"370\" height=\"232\" class=\"\" alt=\"\" /><noscript><img width=\"370\" height=\"232\" class=\"\" alt=\"\" src=\"/fileadmin/_processed_/8/a/csm_trophee-des-femmes-prix-debut-prometteur-2023-1344x840_72d113e61b.jpg\" /></noscript></span><div class=\"content\"><p class=\"meta\"><span class=\"category\">\\n                \\n                    Féminisation\\n                \\n                    \\n                \\n            </span><span class=\"date\">\\n                28 septembre 2023                    \\n            </span></p><h3><a title=\"ESIEE Paris, partenaire des Trophées des femmes de l&#039;industrie 2023\" href=\"/actualites/esiee-paris-partenaire-des-trophees-des-femmes-de-lindustrie-2023\">ESIEE Paris, partenaire des Trophées des femmes de l&#039;industrie 2023</a></h3><p>Jean Mairesse, Directeur Général ESIEE Paris a eu le plaisir de remettre le &quot; Trophée de la femme au début prometteur &quot;.</p></div></div></div><div class=\"swiper-slide\"><div class=\"article-shortcut article-shortcut-event\"><span class=\"lazy-wrapper\" style=\"max-height: 232px;\"><img src=\"data:image/gif;base64,R0lGODlhAQABAIAAAP///wAAACH5BAEAAAAALAAAAAABAAEAAAICRAEAOw==\" data-src=\"/fileadmin/_processed_/4/5/csm_game-jam-esiee-paris_1eab0ad4b5.png\" width=\"370\" height=\"232\" class=\"\" alt=\"\" /><noscript><img width=\"370\" height=\"232\" class=\"\" alt=\"\" src=\"/fileadmin/_processed_/4/5/csm_game-jam-esiee-paris_1eab0ad4b5.png\" /></noscript></span><div class=\"content\"><p class=\"meta\"><span class=\"category\">\\n                \\n                    Evénements\\n                \\n            </span><span class=\"date\">\\n                \\n                        \\n                                Du 20 septembre 2023\\n                                au 22 septembre 2023\\n                                                    \\n                                        \\n            </span></p><h3><a title=\"Nouvelle édition de la Game Jam ESIEE Paris\" href=\"/actualites/nouvelle-edition-de-la-game-jam-esiee-paris\">Nouvelle édition de la Game Jam ESIEE Paris</a></h3><p>105 élèves ESIEE Paris ont conçu et développé des jeux vidéo sur un thème original. Découvrez leurs créations.</p></div></div></div><div class=\"swiper-slide\"><div class=\"article-shortcut\"><span class=\"lazy-wrapper\" style=\"max-height: 232px;\"><img src=\"data:image/gif;base64,R0lGODlhAQABAIAAAP///wAAACH5BAEAAAAALAAAAAABAAEAAAICRAEAOw==\" data-src=\"/fileadmin/_processed_/2/5/csm_conference-ia-science-trash-1344x840_fb17ec22a3.jpg\" width=\"370\" height=\"232\" class=\"\" alt=\"\" /><noscript><img width=\"370\" height=\"232\" class=\"\" alt=\"\" src=\"/fileadmin/_processed_/2/5/csm_conference-ia-science-trash-1344x840_fb17ec22a3.jpg\" /></noscript></span><div class=\"content\"><p class=\"meta\"><span class=\"category\">\\n                \\n                    Actualités\\n                \\n            </span></p><h3><a title=\"&quot;  L&#039;IA détruira-t-elle l&#039;humanité ?  &quot; : une table ronde en partenariat avec Science trash\" href=\"/actualites/lia-detruira-telle-lhumanite-une-table-ronde-en-partenariat-avec-science-trash\">&quot;&nbsp;L&#039;IA détruira-t-elle l&#039;humanité ?&nbsp;&quot; : une table ronde en partenariat avec Science trash</a></h3><p>Le lundi 12 juin 2023 à ESIEE Paris a eu lieu une table ronde dans le but de répondre à la question suivante : &quot;  L&#039;IA...</p></div></div></div><div class=\"swiper-slide\"><div class=\"article-shortcut\"><span class=\"lazy-wrapper\" style=\"max-height: 232px;\"><img src=\"data:image/gif;base64,R0lGODlhAQABAIAAAP///wAAACH5BAEAAAAALAAAAAABAAEAAAICRAEAOw==\" data-src=\"/fileadmin/_processed_/a/a/csm_visuel-taxe-soltea-2023-1344x756_9216c31522.jpg\" width=\"370\" height=\"232\" class=\"\" alt=\"\" /><noscript><img width=\"370\" height=\"232\" class=\"\" alt=\"\" src=\"/fileadmin/_processed_/a/a/csm_visuel-taxe-soltea-2023-1344x756_9216c31522.jpg\" /></noscript></span><div class=\"content\"><p class=\"meta\"><span class=\"category\">\\n                \\n                    Entreprises\\n                \\n            </span></p><h3><a title=\"Taxe d&#039;apprentissage 2023 : encouragez l&#039;innovation en choisissant ESIEE Paris !\" href=\"/actualites/taxe-dapprentissage-2023-encouragez-linnovation-en-choisissant-esiee-paris\">Taxe d&#039;apprentissage 2023 : encouragez l&#039;innovation en choisissant ESIEE Paris !</a></h3><p>Entreprises, en 2023, le mode de collecte et d’attribution de votre solde de taxe d’apprentissage change : une nouvelle...</p></div></div></div><div class=\"swiper-slide\"><div class=\"article-shortcut article-shortcut-event\"><span class=\"lazy-wrapper\" style=\"max-height: 232px;\"><img src=\"data:image/gif;base64,R0lGODlhAQABAIAAAP///wAAACH5BAEAAAAALAAAAAABAAEAAAICRAEAOw==\" data-src=\"/fileadmin/_processed_/9/5/csm_journee-immersion-1344x756_607813ddcf.jpg\" width=\"370\" height=\"232\" class=\"\" alt=\"\" /><noscript><img width=\"370\" height=\"232\" class=\"\" alt=\"\" src=\"/fileadmin/_processed_/9/5/csm_journee-immersion-1344x756_607813ddcf.jpg\" /></noscript></span><div class=\"content\"><p class=\"meta\"><span class=\"category\">\\n                \\n                    Immersion\\n                \\n                    \\n                \\n                    \\n                \\n            </span><span class=\"date\">\\n                \\n                        13 décembre 2023                        \\n                                        \\n            </span></p><h3><a title=\"&quot;L’ESIEE, c&#039;est l&#039;adopter !&quot; Journées d&#039;immersion à ESIEE Paris \" href=\"/actualites/lesiee-cest-ladopter-journee-dimmersion-a-esiee-paris\">&quot;L’ESIEE, c&#039;est l&#039;adopter !&quot; Journées d&#039;immersion à ESIEE Paris </a></h3><p>Envie d’en savoir plus sur la réalité de la vie d’un élève en école d’ingénieurs ?</p></div></div></div><div class=\"swiper-slide\"><div class=\"article-shortcut\"><span class=\"lazy-wrapper\" style=\"max-height: 232px;\"><img src=\"data:image/gif;base64,R0lGODlhAQABAIAAAP///wAAACH5BAEAAAAALAAAAAABAAEAAAICRAEAOw==\" data-src=\"/fileadmin/_processed_/f/0/csm_illustration-ingenieuses-2023-1344x840_85927aa5e2.jpg\" width=\"370\" height=\"232\" class=\"\" alt=\"\" /><noscript><img width=\"370\" height=\"232\" class=\"\" alt=\"\" src=\"/fileadmin/_processed_/f/0/csm_illustration-ingenieuses-2023-1344x840_85927aa5e2.jpg\" /></noscript></span><div class=\"content\"><p class=\"meta\"><span class=\"category\">\\n                \\n                    Féminisation\\n                \\n                    \\n                \\n            </span></p><h3><a title=\"ESIEE Paris nominé lors de la 13e édition de l&#039;opération &quot;  ingénieuses  &quot;\" href=\"/actualites/esiee-paris-nomine-lors-de-la-13e-edition-de-loperaion-ingenieurses\">ESIEE Paris nominé lors de la 13e édition de l&#039;opération &quot;&nbsp;ingénieuses&nbsp;&quot;</a></h3><p>Le projet &quot;  Et Si Ingénieur s&#039;Écrivait avec un E  &quot;, porté par ESIEE Paris a été nominé lors de l&#039;édition 2023 de &quot; ...</p></div></div></div><div class=\"swiper-slide\"><div class=\"article-shortcut\"><span class=\"lazy-wrapper\" style=\"max-height: 232px;\"><img src=\"data:image/gif;base64,R0lGODlhAQABAIAAAP///wAAACH5BAEAAAAALAAAAAABAAEAAAICRAEAOw==\" data-src=\"/fileadmin/_processed_/6/0/csm_illustration-best-paper-award-1344x840_6724a73fb6.jpg\" width=\"370\" height=\"232\" class=\"\" alt=\"\" /><noscript><img width=\"370\" height=\"232\" class=\"\" alt=\"\" src=\"/fileadmin/_processed_/6/0/csm_illustration-best-paper-award-1344x840_6724a73fb6.jpg\" /></noscript></span><div class=\"content\"><p class=\"meta\"><span class=\"category\">\\n                \\n                    Distinctions\\n                \\n                    \\n                \\n                    \\n                \\n            </span></p><h3><a title=\"Veronica Belmega, enseignante-chercheuse à ESIEE Paris, remporte un Best Paper Award\" href=\"/actualites/veronica-belmega-enseignante-chercheuse-a-esiee-paris-remporte-un-best-paper-award-a-la-conference-icl-gnss\">Veronica Belmega, enseignante-chercheuse à ESIEE Paris, remporte un Best Paper Award</a></h3><p>Découvrez son article sur la localisation dans les réseaux GNSS via machine (deep) learning.</p></div></div></div><div class=\"swiper-slide\"><div class=\"article-shortcut\"><span class=\"lazy-wrapper\" style=\"max-height: 232px;\"><img src=\"data:image/gif;base64,R0lGODlhAQABAIAAAP///wAAACH5BAEAAAAALAAAAAABAAEAAAICRAEAOw==\" data-src=\"/fileadmin/_processed_/5/d/csm_signature-partenariat-orange-mai-2023-1344x840_eece6c482f.jpg\" width=\"370\" height=\"232\" class=\"\" alt=\"\" /><noscript><img width=\"370\" height=\"232\" class=\"\" alt=\"\" src=\"/fileadmin/_processed_/5/d/csm_signature-partenariat-orange-mai-2023-1344x840_eece6c482f.jpg\" /></noscript></span><div class=\"content\"><p class=\"meta\"><span class=\"category\">\\n                \\n                    Entreprises\\n                \\n            </span></p><h3><a title=\"Orange et ESIEE Paris signent une convention de partenariat\" href=\"/actualites/orange-et-esiee-paris-signent-une-convention-de-partenariat\">Orange et ESIEE Paris signent une convention de partenariat</a></h3><p>Ce mercredi 31 mai 2023, Orange et ESIEE Paris ont signé un nouvelle convention de partenariat</p></div></div></div><div class=\"swiper-slide\"><div class=\"article-shortcut\"><span class=\"lazy-wrapper\" style=\"max-height: 232px;\"><img src=\"data:image/gif;base64,R0lGODlhAQABAIAAAP///wAAACH5BAEAAAAALAAAAAABAAEAAAICRAEAOw==\" data-src=\"/fileadmin/_processed_/b/0/csm_camille-fahy-cycliste-1344x756_af0832b451.jpg\" width=\"370\" height=\"232\" class=\"\" alt=\"\" /><noscript><img width=\"370\" height=\"232\" class=\"\" alt=\"\" src=\"/fileadmin/_processed_/b/0/csm_camille-fahy-cycliste-1344x756_af0832b451.jpg\" /></noscript></span><div class=\"content\"><p class=\"meta\"><span class=\"category\">\\n                \\n                    Sport\\n                \\n                    \\n                \\n            </span></p><h3><a title=\"Camille Fahy, étudiante à ESIEE Paris devient cycliste professionnelle\" href=\"/actualites/camille-fahy-etudiante-a-esiee-paris-devient-cycliste-professionnelle\">Camille Fahy, étudiante à ESIEE Paris devient cycliste professionnelle</a></h3><p>Camille Fahy, étudiante en 2e année du premier cycle à ESIEE Paris a commencé le cyclisme en compétition dès l’âge de 11...</p></div></div></div><div class=\"swiper-slide\"><div class=\"article-shortcut\"><span class=\"lazy-wrapper\" style=\"max-height: 232px;\"><img src=\"data:image/gif;base64,R0lGODlhAQABAIAAAP///wAAACH5BAEAAAAALAAAAAABAAEAAAICRAEAOw==\" data-src=\"/fileadmin/_processed_/3/2/csm_olivier-francais-1344x840_d151119c68.jpg\" width=\"370\" height=\"232\" class=\"\" alt=\"\" /><noscript><img width=\"370\" height=\"232\" class=\"\" alt=\"\" src=\"/fileadmin/_processed_/3/2/csm_olivier-francais-1344x840_d151119c68.jpg\" /></noscript></span><div class=\"content\"><p class=\"meta\"><span class=\"category\">\\n                \\n                    Actualités\\n                \\n                    \\n                \\n            </span></p><h3><a title=\"Olivier Français est nommé nouveau doyen du corps professoral ESIEE Paris\" href=\"/actualites/olivier-francais-est-nomme-nouveau-doyen-du-corps-professoral-esiee-paris\">Olivier Français est nommé nouveau doyen du corps professoral ESIEE Paris</a></h3><p>Olivier Français a été élu le jeudi 16 mars 2023 par l’ensemble de l’équipe enseignante ESIEE Paris en tant que nouveau...</p></div></div></div><div class=\"swiper-slide\"><div class=\"article-shortcut\"><span class=\"lazy-wrapper\" style=\"max-height: 232px;\"><img src=\"data:image/gif;base64,R0lGODlhAQABAIAAAP///wAAACH5BAEAAAAALAAAAAABAAEAAAICRAEAOw==\" data-src=\"/fileadmin/_processed_/3/c/csm_logo-actu-cwur-1344x840_96aa069e0e.jpg\" width=\"370\" height=\"232\" class=\"\" alt=\"\" /><noscript><img width=\"370\" height=\"232\" class=\"\" alt=\"\" src=\"/fileadmin/_processed_/3/c/csm_logo-actu-cwur-1344x840_96aa069e0e.jpg\" /></noscript></span><div class=\"content\"><p class=\"meta\"><span class=\"category\">\\n                \\n                    Classements\\n                \\n                    \\n                \\n            </span></p><h3><a title=\"L&#039;université Gustave Eiffel parmi les 3% des meilleures universités au monde selon CWUR\" href=\"/actualites/luniversite-gustave-eiffel-parmi-les-meilleures-universites-au-monde-selon-cwur\">L&#039;université Gustave Eiffel parmi les 3% des meilleures universités au monde selon CWUR</a></h3><p>Le 15 mai 2023, le Center for World University Rankings (CWUR) a publié son classement des 2 000 meilleurs...</p></div></div></div><div class=\"swiper-slide\"><div class=\"article-shortcut article-shortcut-story\"><span class=\"lazy-wrapper\" style=\"max-height: 500px;\"><img src=\"data:image/gif;base64,R0lGODlhAQABAIAAAP///wAAACH5BAEAAAAALAAAAAABAAEAAAICRAEAOw==\" data-src=\"/fileadmin/_processed_/e/a/csm_story-classements-540x960_1f891460f0.jpg\" width=\"370\" height=\"500\" class=\"\" alt=\"\" /><noscript><img width=\"370\" height=\"500\" class=\"\" alt=\"\" src=\"/fileadmin/_processed_/e/a/csm_story-classements-540x960_1f891460f0.jpg\" /></noscript></span><div class=\"content\"><h3><a title=\"Classements\" href=\"/actualites/classements\">Classements</a></h3><p class=\"meta\"><span class=\"category\">\\n                \\n                    Story\\n                \\n                    \\n                \\n            </span><span class=\"date\">26 mai 2023</span></p></div></div></div><div class=\"swiper-slide\"><div class=\"article-shortcut\"><span class=\"lazy-wrapper\" style=\"max-height: 232px;\"><img src=\"data:image/gif;base64,R0lGODlhAQABAIAAAP///wAAACH5BAEAAAAALAAAAAABAAEAAAICRAEAOw==\" data-src=\"/fileadmin/_processed_/b/4/csm_carte-grand-paris-1344x756_f1f626f07b.jpg\" width=\"370\" height=\"232\" class=\"\" alt=\"\" /><noscript><img width=\"370\" height=\"232\" class=\"\" alt=\"\" src=\"/fileadmin/_processed_/b/4/csm_carte-grand-paris-1344x756_f1f626f07b.jpg\" /></noscript></span><div class=\"content\"><p class=\"meta\"><span class=\"category\">\\n                \\n                    Actualités\\n                \\n                    \\n                \\n            </span></p><h3><a title=\"ESIEE Paris au coeur des nouvelles lignes du grand Paris\" href=\"/actualites/esiee-paris-au-coeur-des-nouvelles-lignes-du-grand-paris\">ESIEE Paris au coeur des nouvelles lignes du grand Paris</a></h3><p>Découvrez la future gare et les deux nouvelles lignes de métro qui desserviront la gare de Noisy-Champs.</p></div></div></div><div class=\"swiper-slide\"><div class=\"article-shortcut article-shortcut-story\"><span class=\"lazy-wrapper\" style=\"max-height: 500px;\"><img src=\"data:image/gif;base64,R0lGODlhAQABAIAAAP///wAAACH5BAEAAAAALAAAAAABAAEAAAICRAEAOw==\" data-src=\"/fileadmin/_processed_/7/0/csm_story-feminisation-540x960_6e3222ad89.jpg\" width=\"370\" height=\"500\" class=\"\" alt=\"\" /><noscript><img width=\"370\" height=\"500\" class=\"\" alt=\"\" src=\"/fileadmin/_processed_/7/0/csm_story-feminisation-540x960_6e3222ad89.jpg\" /></noscript></span><div class=\"content\"><h3><a title=\"Toutes ingénieures\" href=\"/actualites/toutes-ingenieures\">Toutes ingénieures</a></h3><p class=\"meta\"><span class=\"category\">\\n                \\n                    Story\\n                \\n                    \\n                \\n                    \\n                \\n            </span></p></div></div></div></div><div class=\"swiper-navigation\"><div><div class=\"swiper-button-prev\"></div><div class=\"swiper-button-next\"></div></div><ul class=\"button-list primary justify-content-end\"><li><a href=\"/actualites\">Toutes les actualités</a></li></ul></div></div><!--TYPO3SEARCH_begin--></div></div></section></div><div id=\"c31\" class=\"frame frame-default frame-type-esieesitepackage_landingvideo frame-layout-0\"><div class=\"container\"><section class=\"landing landing-video\"><video autoplay=\"\" muted=\"\" class=\"lazy\" preload=\"metadata\" loop=\"\" aria-hidden=\"true\"><source data-src=\"/fileadmin/user_upload/Fichiers/videos/ESIEEParisVueDuCielHomeWeb.mp4\" type=\"video/mp4\"></video><div class=\"wrapper\"><div class=\"container\"><h2><strong>Un cadre unique</strong> où étudier, près de paris</h2><div class=\"cke_editable\"><p>Une école en forme d\\'ordinateur. Découvrez notre vaste bâtiment à l\\'architecture futuriste implanté au coeur d\\'un campus de 17 000 étudiants, conçu par l\\'architecte Dominique Perrault.</p></div><ul class=\"button-list  uppercase\"><li><a href=\"/vie-de-campus/la-vie-sur-le-campus\">Découvrir le campus</a></li><li><a href=\"/lecole/visite-virtuelle-esiee-paris\">Visite virtuelle</a></li><li><a href=\"/lecole/pourquoi-choisir-esiee-paris\">En savoir plus</a></li></ul></div></div></section></div></div><div id=\"c33\" class=\"frame frame-default frame-type-esieesitepackage_containersection frame-layout-0\"><section class=\"\"><div class=\"container\"><div id=\"c8\" class=\"frame frame-default frame-type-list frame-layout-0\"><header><h2 class=\"\" id=\"c8-header\">\\n                Toutes les <strong>filières</strong></h2></header><div class=\"swiper swiper-4-slide-per-view\"><div class=\"swiper-wrapper\"><div class=\"swiper-slide\"><div class=\"light\"><a class=\"pill primary\" href=\"/formations/ingenieur/filieres/informatique\"><h3><strong>Informatique</strong></h3></a><p><strong>Ingénieur</strong></p></div></div><div class=\"swiper-slide\"><div class=\"light\"><a class=\"pill primary\" href=\"/formations/ingenieur/filieres/cybersecurite\"><h3><strong>Cybersécurité</strong></h3></a><p><strong>Ingénieur</strong></p></div></div><div class=\"swiper-slide\"><div class=\"light\"><a class=\"pill primary\" href=\"/formations/ingenieur-par-apprentissage/systemes-embarques\"><h3><strong>Systèmes embarqués </strong></h3></a><p>Transports et objets intelligents</p><p><strong>Ingénieur par apprentissage</strong></p></div></div><div class=\"swiper-slide\"><div class=\"light\"><a class=\"pill primary\" href=\"/formations/ingenieur-par-apprentissage/informatique-design-architecture-et-developpement\"><h3><strong>Informatique, design, architecture et développement</strong></h3></a><p><strong>Ingénieur par apprentissage</strong></p></div></div><div class=\"swiper-slide\"><div class=\"light\"><a class=\"pill primary\" href=\"/formations/ingenieur-par-apprentissage/informatique-et-applications\"><h3><strong>Informatique et applications</strong></h3></a><p>Ingénierie 3D et technologie des médias</p><p><strong>Ingénieur par apprentissage</strong></p></div></div><div class=\"swiper-slide\"><div class=\"light\"><a class=\"pill primary\" href=\"/formations/ingenieur/filieres/artificial-intelligence-and-cybersecurity\"><h3><strong>Artificial intelligence and cybersecurity</strong></h3></a><p><strong>Ingénieur</strong></p></div></div><div class=\"swiper-slide\"><div class=\"light\"><a class=\"pill primary\" href=\"/formations/ingenieur/filieres/data-science-et-intelligence-artificielle\"><h3><strong>Datascience et intelligence artificielle</strong></h3></a><p><strong>Ingénieur</strong></p></div></div><div class=\"swiper-slide\"><div class=\"light\"><a class=\"pill primary\" href=\"/formations/ingenieur-par-apprentissage/reseaux-et-securite\"><h3><strong>Réseaux et sécurité </strong></h3></a><p>Architecture et Internet des objects</p><p><strong>Ingénieur par apprentissage</strong></p></div></div><div class=\"swiper-slide\"><div class=\"light\"><a class=\"pill primary\" href=\"/formations/ingenieur/filieres/systemes-embarques\"><h3><strong>Systèmes embarqués</strong></h3></a><p><strong>Ingénieur</strong></p></div></div><div class=\"swiper-slide\"><div class=\"light\"><a class=\"pill primary\" href=\"/formations/ingenieur-par-apprentissage/electronique-et-informatique\"><h3><strong>Electronique et informatique</strong></h3></a><p><strong>Ingénieur par apprentissage</strong></p></div></div><div class=\"swiper-slide\"><div class=\"light\"><a class=\"pill primary\" href=\"/formations/programmes-internationaux/msc-management-of-technology-information-systems\"><h3><strong>M.Sc. Management of technology - Information systems</strong></h3></a><p><strong>Programmes internationaux</strong></p></div></div><div class=\"swiper-slide\"><div class=\"light\"><a class=\"pill primary\" href=\"/formations/programmes-internationaux/filliere-artificial-intelligence-and-cybersecurity\"><h3><strong>Master in Artificial intelligence and cybersecurity</strong></h3></a><p><strong>Programmes internationaux</strong></p></div></div><div class=\"swiper-slide\"><div class=\"light\"><a class=\"pill primary\" href=\"/formations/licence-professionnelle\"><h3><strong>Licence professionnelle</strong></h3></a><p>Maintenance des systèmes industriels, de production et d’énergie maintenance industrielle et sûreté des process</p><p><strong>Licence professionnelle</strong></p></div></div><div class=\"swiper-slide\"><div class=\"light\"><a class=\"pill primary\" href=\"/formations/ingenieur/filieres/genie-industriel\"><h3><strong>Génie industriel</strong></h3></a><p><strong>Ingénieur</strong></p></div></div><div class=\"swiper-slide\"><div class=\"light\"><a class=\"pill primary\" href=\"/formations/ingenieur-par-apprentissage/genie-industriel\"><h3><strong>Génie industriel</strong></h3></a><p>Supply chain et numérique</p><p><strong>Ingénieur par apprentissage</strong></p></div></div><div class=\"swiper-slide\"><div class=\"light\"><a class=\"pill primary\" href=\"/formations/ingenieur/filieres/systemes-electroniques-intelligents\"><h3><strong>Systèmes électroniques intelligents</strong></h3></a><p><strong>Ingénieur</strong></p></div></div><div class=\"swiper-slide\"><div class=\"light\"><a class=\"pill primary\" href=\"/formations/ingenieur-par-apprentissage/genie-mecanique\"><h3><strong>Génie mécanique</strong></h3></a><p><strong>Ingénieur par apprentissage</strong></p></div></div><div class=\"swiper-slide\"><div class=\"light\"><a class=\"pill primary\" href=\"/formations/ingenieur/filieres/biotechnologies-et-e-sante\"><h3><strong>Biotechnologies et e-santé</strong></h3></a><p><strong>Ingénieur</strong></p></div></div><div class=\"swiper-slide\"><div class=\"light\"><a class=\"pill primary\" href=\"/formations/ingenieur-par-apprentissage/maintenance-et-fiabilite-des-processus-industriels\"><h3><strong>Maintenance et fiabilité des processus industriels</strong></h3></a><p><strong>Ingénieur par apprentissage</strong></p></div></div><div class=\"swiper-slide\"><div class=\"light\"><a class=\"pill primary\" href=\"/formations/ingenieur/filieres/energie\"><h3><strong>Energie</strong></h3></a><p><strong>Ingénieur</strong></p></div></div><div class=\"swiper-slide\"><div class=\"light\"><a class=\"pill primary\" href=\"/formations/ingenieur-par-apprentissage/genie-civil\"><h3><strong>Génie civil</strong></h3></a><p><strong>Ingénieur par apprentissage</strong></p></div></div><div class=\"swiper-slide\"><div class=\"light\"><a class=\"pill primary\" href=\"/formations/bachelor\"><h3><strong>Bachelor</strong></h3></a><p>Économie, Sciences et Technologies Multimédia (BEST\\'m)</p><p><strong>Bachelor</strong></p></div></div><div class=\"swiper-slide\"><div class=\"light\"><a class=\"pill primary\" href=\"/formations/ingenieur-par-apprentissage/energies\"><h3><strong>Energies</strong></h3></a><p>Ingénierie de la transition énergétique</p><p><strong>Ingénieur par apprentissage</strong></p></div></div><div class=\"swiper-slide\"><div class=\"light\"><a class=\"pill primary\" href=\"/formations/ingenieur/filieres/imac\"><h3><strong>Formation d&#039;ingénieur IMAC</strong></h3></a><p><strong>Ingénieur</strong></p></div></div></div><div class=\"swiper-navigation\"><div><div class=\"swiper-button-prev\"></div><div class=\"swiper-button-next\"></div></div></div></div></div></div></section></div><div id=\"c36\" class=\"frame frame-default frame-type-esieesitepackage_containersection frame-layout-0\"><section class=\"bg-primary\"><div class=\"container\"><div id=\"c804\" class=\"frame frame-default frame-type-textpic frame-layout-0\"><div class=\"ce-textpic ce-right ce-intext ce-nowrap\"><div class=\"ce-gallery\" data-ce-columns=\"1\" data-ce-images=\"1\"><div class=\"ce-row\"><div class=\"ce-column\"><figure class=\"image\"><span class=\"lazy-wrapper\"><img class=\"image-embed-item\" src=\"data:image/gif;base64,R0lGODlhAQABAIAAAP///wAAACH5BAEAAAAALAAAAAABAAEAAAICRAEAOw==\" data-src=\"/fileadmin/_processed_/1/3/csm_test-T20-image_2c0b9a4f93.png\" width=\"570\" height=\"232\" alt=\"\" /><noscript><img class=\"image-embed-item\" width=\"570\" height=\"232\" alt=\"\" src=\"/fileadmin/_processed_/1/3/csm_test-T20-image_2c0b9a4f93.png\" /></noscript></span></figure></div></div></div><div class=\"ce-bodytext\"><header><h3 class=\"\">\\n                Vous rêvez d&#039;une <strong>expérience à l&#039;étranger ?</strong></h3></header><div class=\"cke_editable\"><p>Les élèves effectuent un séjour de 4 mois minimum à l\\'étranger.</p><p><a href=\"/international/une-large-ouverture-a-linternational\" target=\"_blank\" class=\"btn-primary\" title=\"Ouvre une nouvelle fenêtre\">Découvrir</a></p></div></div></div></div></div></section></div><div id=\"c42\" class=\"frame frame-default frame-type-esieesitepackage_containersection frame-layout-0\"><section class=\"\"><div class=\"container\"><div id=\"c39\" class=\"frame frame-default frame-type-textpic frame-layout-0 frame-space-before-medium\"><div class=\"ce-textpic ce-left ce-intext ce-nowrap\"><div class=\"ce-gallery\" data-ce-columns=\"1\" data-ce-images=\"1\"><div class=\"ce-row\"><div class=\"ce-column\"><figure class=\"image\"><span class=\"lazy-wrapper\"><img class=\"image-embed-item\" src=\"data:image/gif;base64,R0lGODlhAQABAIAAAP///wAAACH5BAEAAAAALAAAAAABAAEAAAICRAEAOw==\" data-src=\"/fileadmin/_processed_/0/f/csm_illustration-recherche-galette-1920x1080_a24a19d4b2.jpg\" width=\"400\" height=\"225\" alt=\"\" /><noscript><img class=\"image-embed-item\" width=\"400\" height=\"225\" alt=\"\" src=\"/fileadmin/_processed_/0/f/csm_illustration-recherche-galette-1920x1080_a24a19d4b2.jpg\" /></noscript></span></figure></div></div></div><div class=\"ce-bodytext\"><div class=\"cke_editable\"><h2>ESIEE Paris\\xa0<strong>au coeur de la recherche</strong></h2><p>3 axes de recherche, 5 plateformes technologiques, des formations doctorales, de nombreux partenariats entreprises.</p><p><a href=\"/recherche/la-recherche-a-esiee-paris\" class=\"btn-secondary\">Découvrir la recherche à ESIEE Paris</a></p></div></div></div></div><div id=\"c59\" class=\"frame frame-default frame-type-div frame-layout-0 frame-space-before-medium\"><hr class=\"ce-div\"></div><div id=\"c43\" class=\"frame frame-default frame-type-esieesitepackage_navigationctaimage frame-layout-0\"><header><h2 class=\"\" id=\"c43-header\">\\n                Relations <strong>entreprises</strong></h2><h3 class=\"\"><strong>Nos services dédiés</strong> pour mieux vous accompagner\\n            </h3></header><ul class=\"cta image\"><li class=\"col-12 col-sm-6 col-lg-3\"><span class=\"lazy-wrapper\" style=\"max-height: 1080px;\"><img src=\"data:image/gif;base64,R0lGODlhAQABAIAAAP///wAAACH5BAEAAAAALAAAAAABAAEAAAICRAEAOw==\" data-src=\"/fileadmin/user_upload/Fichiers/entreprises/recruter-apprentis/illustration-travaux-groupe-1920x1080.jpg\" width=\"1920\" height=\"1080\" class=\"\" alt=\"\" /><noscript><img width=\"1920\" height=\"1080\" class=\"\" alt=\"\" src=\"/fileadmin/user_upload/Fichiers/entreprises/recruter-apprentis/illustration-travaux-groupe-1920x1080.jpg\" /></noscript></span><a href=\"/entreprises/recrutez-des-eleves/recrutez-vos-stagiaires\" class=\"pill big\">Recrutez nos étudiants</a></li><li class=\"col-12 col-sm-6 col-lg-3\"><span class=\"lazy-wrapper\" style=\"max-height: 1080px;\"><img src=\"data:image/gif;base64,R0lGODlhAQABAIAAAP///wAAACH5BAEAAAAALAAAAAABAAEAAAICRAEAOw==\" data-src=\"/fileadmin/user_upload/Fichiers/entreprises/illustration-innovation-abstaite-1920x1080.jpg\" width=\"1920\" height=\"1080\" class=\"\" alt=\"\" /><noscript><img width=\"1920\" height=\"1080\" class=\"\" alt=\"\" src=\"/fileadmin/user_upload/Fichiers/entreprises/illustration-innovation-abstaite-1920x1080.jpg\" /></noscript></span><a href=\"/entreprises/developpez-vos-projets-technologiques\" class=\"pill big\">Développez vos projets technologiques</a></li><li class=\"col-12 col-sm-6 col-lg-3\"><span class=\"lazy-wrapper\" style=\"max-height: 1080px;\"><img src=\"data:image/gif;base64,R0lGODlhAQABAIAAAP///wAAACH5BAEAAAAALAAAAAABAAEAAAICRAEAOw==\" data-src=\"/fileadmin/user_upload/Fichiers/recherche/illustration-salles-blanches-facade-exterieur-1920x1080.jpg\" width=\"1920\" height=\"1080\" class=\"\" alt=\"\" /><noscript><img width=\"1920\" height=\"1080\" class=\"\" alt=\"\" src=\"/fileadmin/user_upload/Fichiers/recherche/illustration-salles-blanches-facade-exterieur-1920x1080.jpg\" /></noscript></span><a href=\"/lecole/salles-blanches/salles-blanches\" class=\"pill big\">Découvrez les salles blanches</a></li><li class=\"col-12 col-sm-6 col-lg-3\"><span class=\"lazy-wrapper\" style=\"max-height: 1080px;\"><img src=\"data:image/gif;base64,R0lGODlhAQABAIAAAP///wAAACH5BAEAAAAALAAAAAABAAEAAAICRAEAOw==\" data-src=\"/fileadmin/user_upload/Fichiers/entreprises/illustration-entretien-poignee-mains-1920x1080.jpg\" width=\"1920\" height=\"1080\" class=\"\" alt=\"\" /><noscript><img width=\"1920\" height=\"1080\" class=\"\" alt=\"\" src=\"/fileadmin/user_upload/Fichiers/entreprises/illustration-entretien-poignee-mains-1920x1080.jpg\" /></noscript></span><a href=\"/entreprises/soutenez-esiee-paris/devenez-mecene\" class=\"pill big\">Soutenez nos projets</a></li></ul></div><div id=\"c58\" class=\"frame frame-default frame-type-div frame-layout-0\"><hr class=\"ce-div\"></div><div id=\"c912\" class=\"frame frame-default frame-type-esieesitepackage_containersection frame-layout-0\"><section class=\"\"><div class=\"container\"><div id=\"c913\" class=\"frame frame-default frame-type-shortcut frame-layout-0\"><div id=\"c1114\" class=\"frame frame-default frame-type-esieesitepackage_redactionnelst16-chiffrescles frame-layout-0\"><div class=\"row mb-4\"><div class=\"col-lg-4 text-center\"><p><strong class=\"very-big text-primary\">97&nbsp;%</strong><br>\\r\\n                        des jeunes diplômés ont trouvé leur 1er emploi 6 mois après leur sortie (promo 2022)</p></div><div class=\"col-lg-4 text-center\"><p><strong class=\"very-big text-primary\">84&nbsp;%</strong><br>\\r\\n                        des élèves ont trouvé un contrat avant même la fin de leur formation</p></div><div class=\"col-lg-4 text-center\"><p><strong class=\"very-big text-primary\">42&nbsp;072&nbsp;€</strong><br>\\r\\n                        Salaire moyen d&#039;embauche (brut) annuel France et international</p></div></div></div></div></div></section></div><div id=\"c45\" class=\"frame frame-default frame-type-esieesitepackage_redactionnelst44-temoignageslider frame-layout-0 frame-space-before-medium\"><div class=\"row\"><div class=\"col\"><h2>Témoignages</h2></div><div class=\"col\"><span class=\"lazy-wrapper\" style=\"max-height: 50px;\"><img src=\"data:image/gif;base64,R0lGODlhAQABAIAAAP///wAAACH5BAEAAAAALAAAAAABAAEAAAICRAEAOw==\" data-src=\"/fileadmin/_processed_/d/8/csm_HappyAtSchool_243c0a85a1.png\" width=\"145\" height=\"50\" class=\"\" alt=\"\" /><noscript><img width=\"145\" height=\"50\" class=\"\" alt=\"\" src=\"/fileadmin/_processed_/d/8/csm_HappyAtSchool_243c0a85a1.png\" /></noscript></span></div></div><div class=\"swiper swiper-3-slide-per-view\"><div class=\"swiper-wrapper\"><div class=\"swiper-slide\"><div class=\"bg-light\"><p class=\"text-center\"><span class=\"lazy-wrapper\" style=\"max-height: 132px;\"><img class=\"round\" src=\"data:image/gif;base64,R0lGODlhAQABAIAAAP///wAAACH5BAEAAAAALAAAAAABAAEAAAICRAEAOw==\" data-src=\"/fileadmin/_processed_/0/9/csm_blank-profile-picture-bleu-400x400_00479b2092.png\" width=\"132\" height=\"132\" alt=\"\" /><noscript><img class=\"round\" width=\"132\" height=\"132\" alt=\"\" src=\"/fileadmin/_processed_/0/9/csm_blank-profile-picture-bleu-400x400_00479b2092.png\" /></noscript></span></p><h3 class=\"mb-0\"><strong class=\"big\">Elève ESIEE Paris</strong></h3><p><span class=\"small\">Avis certifié Happy at School</span></p><div class=\"cke_editable\"><p>\" Ce qui me plait le plus, c\\'est sans aucun doute l\\'ambiance. Les étudiants y sont tous très gentils, à l\\'écoute, et très ouverts. A cela j\\'ajoute la vie associative, riche et pleine d\\'opportunités. J\\'adore ! \"</p></div></div></div><div class=\"swiper-slide\"><div class=\"bg-light\"><p class=\"text-center\"><span class=\"lazy-wrapper\" style=\"max-height: 132px;\"><img class=\"round\" src=\"data:image/gif;base64,R0lGODlhAQABAIAAAP///wAAACH5BAEAAAAALAAAAAABAAEAAAICRAEAOw==\" data-src=\"/fileadmin/_processed_/e/5/csm_blank-profile-picture-rose-400-x-400_ed015df7e9.png\" width=\"132\" height=\"132\" alt=\"\" /><noscript><img class=\"round\" width=\"132\" height=\"132\" alt=\"\" src=\"/fileadmin/_processed_/e/5/csm_blank-profile-picture-rose-400-x-400_ed015df7e9.png\" /></noscript></span></p><h3 class=\"mb-0\"><strong class=\"big\">Elève ESIEE Paris</strong></h3><p><span class=\"small\">Avis certifié Happy at School</span></p><div class=\"cke_editable\"><p>\" Un atout : la relation que nous avons avec les profs. Ils sont toujours là pour répondre à nos questions même hors des cours et veulent notre réussite. \"</p></div></div></div><div class=\"swiper-slide\"><div class=\"bg-light\"><p class=\"text-center\"><span class=\"lazy-wrapper\" style=\"max-height: 132px;\"><img class=\"round\" src=\"data:image/gif;base64,R0lGODlhAQABAIAAAP///wAAACH5BAEAAAAALAAAAAABAAEAAAICRAEAOw==\" data-src=\"/fileadmin/_processed_/0/4/csm_blank-profile-picture-bleu2_400_x_400_97b4966771.png\" width=\"132\" height=\"132\" alt=\"\" /><noscript><img class=\"round\" width=\"132\" height=\"132\" alt=\"\" src=\"/fileadmin/_processed_/0/4/csm_blank-profile-picture-bleu2_400_x_400_97b4966771.png\" /></noscript></span></p><h3 class=\"mb-0\"><strong class=\"big\">Elève ESIEE Paris</strong></h3><p><span class=\"small\">Avis certifié Happy at School</span></p><div class=\"cke_editable\"><p>\" La bonne ambiance, le cadre de travail , les nombreux espaces de travail, les formations proposées et le lien avec les entreprises. \"</p></div></div></div><div class=\"swiper-slide\"><div class=\"bg-light\"><p class=\"text-center\"><span class=\"lazy-wrapper\" style=\"max-height: 132px;\"><img class=\"round\" src=\"data:image/gif;base64,R0lGODlhAQABAIAAAP///wAAACH5BAEAAAAALAAAAAABAAEAAAICRAEAOw==\" data-src=\"/fileadmin/_processed_/1/1/csm_blank-profile-picture-vert-400-x-400_d335e61b02.png\" width=\"132\" height=\"132\" alt=\"\" /><noscript><img class=\"round\" width=\"132\" height=\"132\" alt=\"\" src=\"/fileadmin/_processed_/1/1/csm_blank-profile-picture-vert-400-x-400_d335e61b02.png\" /></noscript></span></p><h3 class=\"mb-0\"><strong class=\"big\">Elève ESIEE Paris</strong></h3><p><span class=\"small\">Avis certifié Happy at School</span></p><div class=\"cke_editable\"><p>\" La proximité avec le corps enseignant. Post assistance : possibilité de contacter facilement un enseignant en cas de question. \"</p></div></div></div><div class=\"swiper-slide\"><div class=\"bg-light\"><p class=\"text-center\"><span class=\"lazy-wrapper\" style=\"max-height: 132px;\"><img class=\"round\" src=\"data:image/gif;base64,R0lGODlhAQABAIAAAP///wAAACH5BAEAAAAALAAAAAABAAEAAAICRAEAOw==\" data-src=\"/fileadmin/_processed_/0/9/csm_blank-profile-picture-bleu-400x400_00479b2092.png\" width=\"132\" height=\"132\" alt=\"\" /><noscript><img class=\"round\" width=\"132\" height=\"132\" alt=\"\" src=\"/fileadmin/_processed_/0/9/csm_blank-profile-picture-bleu-400x400_00479b2092.png\" /></noscript></span></p><h3 class=\"mb-0\"><strong class=\"big\">Elève ESIEE Paris</strong></h3><p><span class=\"small\">Avis certifié Happy at School</span></p><div class=\"cke_editable\"><p>\" L\\'associatif est très actif dans mon école, et nous avons un gymnase avec une salle de musculation à notre disposition. \"</p></div></div></div><div class=\"swiper-slide\"><div class=\"bg-light\"><p class=\"text-center\"><span class=\"lazy-wrapper\" style=\"max-height: 132px;\"><img class=\"round\" src=\"data:image/gif;base64,R0lGODlhAQABAIAAAP///wAAACH5BAEAAAAALAAAAAABAAEAAAICRAEAOw==\" data-src=\"/fileadmin/_processed_/e/5/csm_blank-profile-picture-rose-400-x-400_ed015df7e9.png\" width=\"132\" height=\"132\" alt=\"\" /><noscript><img class=\"round\" width=\"132\" height=\"132\" alt=\"\" src=\"/fileadmin/_processed_/e/5/csm_blank-profile-picture-rose-400-x-400_ed015df7e9.png\" /></noscript></span></p><h3 class=\"mb-0\"><strong class=\"big\">Elève ESIEE Paris</strong></h3><p><span class=\"small\">Avis certifié Happy at School</span></p><div class=\"cke_editable\"><p>\" L’ambiance, la proximité des étudiants, les événements associatifs, culturels organisés par le BDE et par l’école (journée des entreprises, Potluck, Future Days, Octobre rose…). \"</p></div></div></div><div class=\"swiper-slide\"><div class=\"bg-light\"><p class=\"text-center\"><span class=\"lazy-wrapper\" style=\"max-height: 132px;\"><img class=\"round\" src=\"data:image/gif;base64,R0lGODlhAQABAIAAAP///wAAACH5BAEAAAAALAAAAAABAAEAAAICRAEAOw==\" data-src=\"/fileadmin/_processed_/0/4/csm_blank-profile-picture-bleu2_400_x_400_97b4966771.png\" width=\"132\" height=\"132\" alt=\"\" /><noscript><img class=\"round\" width=\"132\" height=\"132\" alt=\"\" src=\"/fileadmin/_processed_/0/4/csm_blank-profile-picture-bleu2_400_x_400_97b4966771.png\" /></noscript></span></p><h3 class=\"mb-0\"><strong class=\"big\">Elève ESIEE Paris</strong></h3><p><span class=\"small\">Avis certifié Happy at School</span></p><div class=\"cke_editable\"><p>\" Les étudiants sont tous ouverts d’esprit et ultra bienveillants. De même pour les professeurs qui sont disponibles et à l’écoute. Je peux demander à un élève en dernière année de m’aider sur un sujet et sans hésitation, il le fera ! \"</p></div></div></div><div class=\"swiper-slide\"><div class=\"bg-light\"><p class=\"text-center\"><span class=\"lazy-wrapper\" style=\"max-height: 132px;\"><img class=\"round\" src=\"data:image/gif;base64,R0lGODlhAQABAIAAAP///wAAACH5BAEAAAAALAAAAAABAAEAAAICRAEAOw==\" data-src=\"/fileadmin/_processed_/1/1/csm_blank-profile-picture-vert-400-x-400_d335e61b02.png\" width=\"132\" height=\"132\" alt=\"\" /><noscript><img class=\"round\" width=\"132\" height=\"132\" alt=\"\" src=\"/fileadmin/_processed_/1/1/csm_blank-profile-picture-vert-400-x-400_d335e61b02.png\" /></noscript></span></p><h3 class=\"mb-0\"><strong class=\"big\">Elève ESIEE Paris</strong></h3><p><span class=\"small\">Avis certifié Happy at School</span></p><div class=\"cke_editable\"><p>\" L\\'école pousse les élèves à être plus autonomes et à faire leur propre projet. Elle développe leurs qualités de leadership mais aussi artistiques pour faire des ingénieurs innovants. \"</p></div></div></div><div class=\"swiper-slide\"><div class=\"bg-light\"><p class=\"text-center\"><span class=\"lazy-wrapper\" style=\"max-height: 132px;\"><img class=\"round\" src=\"data:image/gif;base64,R0lGODlhAQABAIAAAP///wAAACH5BAEAAAAALAAAAAABAAEAAAICRAEAOw==\" data-src=\"/fileadmin/_processed_/0/9/csm_blank-profile-picture-bleu-400x400_00479b2092.png\" width=\"132\" height=\"132\" alt=\"\" /><noscript><img class=\"round\" width=\"132\" height=\"132\" alt=\"\" src=\"/fileadmin/_processed_/0/9/csm_blank-profile-picture-bleu-400x400_00479b2092.png\" /></noscript></span></p><h3 class=\"mb-0\"><strong class=\"big\">Elève ESIEE Paris</strong></h3><p><span class=\"small\">Avis certifié Happy at School</span></p><div class=\"cke_editable\"><p>\" Le grand choix d\\'activités dans lesquelles s\\'engager (entreprenariat / apprentissage / associatif / double diplôme...). \"<br> \\xa0</p></div></div></div><div class=\"swiper-slide\"><div class=\"bg-light\"><p class=\"text-center\"><span class=\"lazy-wrapper\" style=\"max-height: 132px;\"><img class=\"round\" src=\"data:image/gif;base64,R0lGODlhAQABAIAAAP///wAAACH5BAEAAAAALAAAAAABAAEAAAICRAEAOw==\" data-src=\"/fileadmin/_processed_/e/5/csm_blank-profile-picture-rose-400-x-400_ed015df7e9.png\" width=\"132\" height=\"132\" alt=\"\" /><noscript><img class=\"round\" width=\"132\" height=\"132\" alt=\"\" src=\"/fileadmin/_processed_/e/5/csm_blank-profile-picture-rose-400-x-400_ed015df7e9.png\" /></noscript></span></p><h3 class=\"mb-0\"><strong class=\"big\">Elève ESIEE Paris</strong></h3><p><span class=\"small\">Avis certifié Happy at School</span></p><div class=\"cke_editable\"><p>\" Engagement important de la part des étudiants envers l\\'inclusion des autres et le maintien d\\'un sentiment de sécurité (lutte contre les VSS par ex). \"</p></div></div></div><div class=\"swiper-slide\"><div class=\"bg-light\"><p class=\"text-center\"><span class=\"lazy-wrapper\" style=\"max-height: 132px;\"><img class=\"round\" src=\"data:image/gif;base64,R0lGODlhAQABAIAAAP///wAAACH5BAEAAAAALAAAAAABAAEAAAICRAEAOw==\" data-src=\"/fileadmin/_processed_/0/4/csm_blank-profile-picture-bleu2_400_x_400_97b4966771.png\" width=\"132\" height=\"132\" alt=\"\" /><noscript><img class=\"round\" width=\"132\" height=\"132\" alt=\"\" src=\"/fileadmin/_processed_/0/4/csm_blank-profile-picture-bleu2_400_x_400_97b4966771.png\" /></noscript></span></p><h3 class=\"mb-0\"><strong class=\"big\">Elève ESIEE Paris</strong></h3><p><span class=\"small\">Avis certifié Happy at School</span></p><div class=\"cke_editable\"><p>\" Les professeurs ont vraiment envie que les étudiants apprennent donc sont prêts à apporter leur aide en cas de besoin. Quant aux élèves, tous sont dans le respect les uns envers les autres et dans un esprit de solidarité. \"</p></div></div></div></div><div class=\"swiper-navigation\"><div><div class=\"swiper-button-prev\"></div><div class=\"swiper-button-next\"></div></div><ul class=\"button-list primary justify-content-end\"><li><a href=\"/nos-ambassadeurs\">Contactez nos ambassadeurs</a></li></ul></div></div></div><div id=\"c2341\" class=\"frame frame-default frame-type-shortcut frame-layout-0 frame-space-before-extra-large\"><div id=\"c46\" class=\"frame frame-default frame-type-esieesitepackage_redactionnelst15-partenaires frame-layout-0 frame-space-before-extra-large\"><div class=\"row mb-4 justify-content-center\"><div class=\"col-12 col-sm-6 col-lg-3 text-center d-flex align-items-center justify-content-center partenaire\"><a href=\"https://www.cge.asso.fr/\" target=\"_blank\" rel=\"noreferrer\" title=\"Ouvre une nouvelle fenêtre\"><span class=\"lazy-wrapper\" style=\"max-height: 66px;\"><img alt=\"Confédération des grandes écoles\" src=\"data:image/gif;base64,R0lGODlhAQABAIAAAP///wAAACH5BAEAAAAALAAAAAABAAEAAAICRAEAOw==\" data-src=\"/fileadmin/_processed_/0/1/csm_CGE_RVB_c8cfe1001b.png\" width=\"200\" height=\"66\" class=\" a42-ac-replace-img\" /><noscript><img alt=\"Confédération des grandes écoles\" width=\"200\" height=\"66\" class=\" a42-ac-replace-img\" src=\"/fileadmin/_processed_/0/1/csm_CGE_RVB_c8cfe1001b.png\" /></noscript></span></a></div><div class=\"col-12 col-sm-6 col-lg-3 text-center d-flex align-items-center justify-content-center partenaire\"><a href=\"https://www.cti-commission.fr/\" target=\"_blank\" rel=\"noreferrer\" title=\"Ouvre une nouvelle fenêtre\"><span class=\"lazy-wrapper\" style=\"max-height: 105px;\"><img alt=\"Commission des Titres d&#039;Ingénieur (CTI)\" src=\"data:image/gif;base64,R0lGODlhAQABAIAAAP///wAAACH5BAEAAAAALAAAAAABAAEAAAICRAEAOw==\" data-src=\"/fileadmin/_processed_/a/0/csm_cti_logo.svg_64c64e06e1.png\" width=\"150\" height=\"105\" class=\" a42-ac-replace-img\" /><noscript><img alt=\"Commission des Titres d&#039;Ingénieur (CTI)\" width=\"150\" height=\"105\" class=\" a42-ac-replace-img\" src=\"/fileadmin/_processed_/a/0/csm_cti_logo.svg_64c64e06e1.png\" /></noscript></span></a></div><div class=\"col-12 col-sm-6 col-lg-3 text-center d-flex align-items-center justify-content-center partenaire\"><a href=\"https://www.cti-commission.fr/la-cti/demarche-qualite/systeme-qe/eur-ace\" target=\"_blank\" rel=\"noreferrer\" title=\"Ouvre une nouvelle fenêtre\"><span class=\"lazy-wrapper\" style=\"max-height: 75px;\"><img alt=\"EURACE\" src=\"data:image/gif;base64,R0lGODlhAQABAIAAAP///wAAACH5BAEAAAAALAAAAAABAAEAAAICRAEAOw==\" data-src=\"/fileadmin/_processed_/e/1/csm_EUR-ACE_52594b329c.png\" width=\"200\" height=\"75\" class=\" a42-ac-replace-img\" /><noscript><img alt=\"EURACE\" width=\"200\" height=\"75\" class=\" a42-ac-replace-img\" src=\"/fileadmin/_processed_/e/1/csm_EUR-ACE_52594b329c.png\" /></noscript></span></a></div><div class=\"col-12 col-sm-6 col-lg-3 text-center d-flex align-items-center justify-content-center partenaire\"><a href=\"https://www.enseignementsup-recherche.gouv.fr/fr/labels-des-formations-controlees-par-l-etat-46088\" target=\"_blank\" rel=\"noreferrer\" title=\"Ouvre une nouvelle fenêtre\"><span class=\"lazy-wrapper\" style=\"max-height: 174px;\"><img alt=\"Diplôme d&#039;ingénieur\" src=\"data:image/gif;base64,R0lGODlhAQABAIAAAP///wAAACH5BAEAAAAALAAAAAABAAEAAAICRAEAOw==\" data-src=\"/fileadmin/_processed_/6/e/csm_1200px-DL_04_Dip_Ing.svg_0873c534da.png\" width=\"150\" height=\"174\" class=\" a42-ac-replace-img\" /><noscript><img alt=\"Diplôme d&#039;ingénieur\" width=\"150\" height=\"174\" class=\" a42-ac-replace-img\" src=\"/fileadmin/_processed_/6/e/csm_1200px-DL_04_Dip_Ing.svg_0873c534da.png\" /></noscript></span></a></div></div></div></div></div></section></div><!--TYPO3SEARCH_end-->\\n    \\n\\t<p class=\"totop\"><a href=\"#top\"><span class=\"sr-only\">Back to the top of the page</span></a></p>\\n</main>\\n<footer class=\"footer\">\\r\\n\\t<div class=\"top\">\\r\\n\\t\\t<div class=\"container\">\\r\\n\\t\\t\\t<div class=\"row\">\\r\\n\\t\\t\\t\\t<div class=\"col-xs-6 col-md-8\">\\r\\n\\t\\t\\t\\t\\t<ul class=\"social\">\\r\\n\\t<li><a href=\"https://www.facebook.com/esieeparis\" title=\"ESIEE sur Facebook\" target=\"_blank\"><span class=\"fa-brands fa-square-facebook\"></span></a></li>\\r\\n\\t<li><a href=\"https://www.instagram.com/esieeparis/\" title=\"ESIEE sur Instagram\" target=\"_blank\"><span class=\"fa-brands fa-instagram\"></span></a></li>\\r\\n\\t<li><a href=\"https://www.linkedin.com/edu/school?id=20041&trk=tyah&trkInfo=idx%3A4-1-4%2CtarId%3A1425998561386%2Ctas%3Aesiee+paris\" title=\"ESIEE sur Linkedin\" target=\"_blank\"><span class=\"fa-brands fa-linkedin-in\"></span></a></li>\\r\\n\\t<li><a href=\"https://twitter.com/ESIEEPARIS\" title=\"ESIEE sur Twitter\" target=\"_blank\"><span class=\"fa-brands fa-x-twitter\"></span></a></li>\\r\\n\\t<li><a href=\"http://www.youtube.com/esieeparis\" title=\"ESIEE sur Youtube\" target=\"_blank\"><span class=\"fa-brands fa-youtube\"></span></a></li>\\r\\n\\t<li><a href=\"/rss.xml\" title=\"Flux RSS d&#039;ESIEE\" target=\"_blank\"><span class=\"fa-solid fa-square-rss\"></span></a></li>\\r\\n</ul>\\r\\n\\t\\t\\t\\t\\t\\n    \\n\\n            <div id=\"c27\" class=\"frame frame-default frame-type-text frame-layout-0\">\\n                \\n                \\n                    \\n\\n\\n\\n                \\n                \\n                    \\n\\n\\n\\n                \\n                \\n\\n    <div class=\"cke_editable\"><p class=\"h2-like\">Vous avez <strong>des questions ?</strong></p>\\n<p>Etudiants, parents, entreprises... Vous souhaitez obtenir des informations,<br> contacter directemment nos équipes.</p></div>\\n\\n\\n                \\n                    \\n\\n\\n\\n                \\n                \\n                    \\n\\n\\n\\n                \\n            </div>\\n\\n        \\n\\n\\r\\n<ul class=\"button-list\"><li><a href=\"/contact-1\">Nous contacter</a></li><li><a href=\"/nous-rencontrer-1\">Nous rencontrer</a></li></ul>\\r\\n\\t\\t\\t\\t</div>\\r\\n\\t\\t\\t\\t<div class=\"col-xs-6 col-md-4 d-flex align-items-center flex-column justify-content-center\">\\r\\n\\t\\t\\t\\t\\t<a href=\"/\" class=\"logo\"><img src=\"/typo3conf/ext/esiee_sitepackage/Resources/Public/imgs/svg/logo-esiee-footer.svg\" alt=\"ESIEE - Paris\"></a>\\r\\n\\t\\t\\t\\t\\t<hr>\\r\\n\\t\\t\\t\\t\\t<ul class=\"partners\">\\r\\n\\t<li><a href=\"https://www.cci-paris-idf.fr/fr/education\" target=\"_blank\"><img src=\"/typo3conf/ext/esiee_sitepackage/Resources/Public/imgs/svg/logo-cci-paris-ile-de-france-education.svg\" alt=\"Une école de CCI Paris Île-de-France Éducation\" class=\"a42-ac-replace-img\"></a></li>\\r\\n\\t<li><a href=\"https://www.univ-gustave-eiffel.fr/\" target=\"_blank\"><img src=\"/typo3conf/ext/esiee_sitepackage/Resources/Public/imgs/svg/logo-univ-gustave-eiffel.svg\" alt=\"Université Gustave Eiffel\" class=\"a42-ac-replace-img\"></a></li>\\r\\n</ul>\\r\\n\\t\\t\\t\\t</div>\\r\\n\\t\\t\\t</div>\\r\\n\\t\\t</div>\\r\\n\\t</div>\\r\\n\\t<div class=\"middle\">\\r\\n\\t\\t<div class=\"container\">\\r\\n\\t\\t\\t<div class=\"row\">\\r\\n\\t\\t\\t\\t<div class=\"col-6 col-md-3\">\\r\\n\\t\\t\\t\\t\\t\\n    \\n\\n            <div id=\"c28\" class=\"frame frame-default frame-type-text frame-layout-0\">\\n                \\n                \\n                    \\n\\n\\n\\n                \\n                \\n                    \\n\\n\\n\\n                \\n                \\n\\n    <div class=\"cke_editable\"><p><strong><svg viewBox=\"0 0 512 512\" class=\"iconpack fas fa-phone-volume\" fill=\"currentColor\" role=\"img\" data-iconfig=\"fa6:solid,phone-volume\"><path d=\"M280 0C408.1 0 512 103.9 512 232c0 13.3-10.7 24-24 24s-24-10.7-24-24c0-101.6-82.4-184-184-184c-13.3 0-24-10.7-24-24s10.7-24 24-24zm8 192a32 32 0 1 1 0 64 32 32 0 1 1 0-64zm-32-72c0-13.3 10.7-24 24-24c75.1 0 136 60.9 136 136c0 13.3-10.7 24-24 24s-24-10.7-24-24c0-48.6-39.4-88-88-88c-13.3 0-24-10.7-24-24zM117.5 1.4c19.4-5.3 39.7 4.6 47.4 23.2l40 96c6.8 16.3 2.1 35.2-11.6 46.3L144 207.3c33.3 70.4 90.3 127.4 160.7 160.7L345 318.7c11.2-13.7 30-18.4 46.3-11.6l96 40c18.6 7.7 28.5 28 23.2 47.4l-24 88C481.8 499.9 466 512 448 512C200.6 512 0 311.4 0 64C0 46 12.1 30.2 29.5 25.4l88-24z\" /></svg>\\xa0<a href=\"tel:+33145926500\">01 45 92 65 00</a></strong></p>\\n<p><strong>Nous rejoindre</strong><br> 27 avenue André-Marie Ampère<br> 77420 Champs-sur-Marne<br> <strong><a href=\"/informations/plan-dacces\"><strong>Plan d’accès</strong></a></strong></p>\\n<p><strong>Envoyer un courrier</strong><br> 2 boulevard Blaise Pascal<br> Cité Descartes, BP 99<br> 93162 Noisy-le-Grand Cedex</p></div>\\n\\n\\n                \\n                    \\n\\n\\n\\n                \\n                \\n                    \\n\\n\\n\\n                \\n            </div>\\n\\n        \\n\\n\\r\\n\\t\\t\\t\\t</div>\\r\\n\\t\\t\\t\\t<div class=\"col-6 col-md-9\">\\r\\n\\t\\t\\t\\t\\t<ul class=\"menu\"><li>Accès rapide<ul><li><a href=\"/informations/plan-dacces\">Plan d\\'accès</a></li><li><a href=\"/lecole/esiee-paris-recrute\">ESIEE Paris recrute</a></li><li><a href=\"/brochures-1\">Nos brochures</a></li><li><a href=\"/jour-des-projets\">Le Jour des Projets</a></li><li><a href=\"/lecole/visite-virtuelle-esiee-paris\">Visite virtuelle</a></li></ul></li><li>Etudiantes et étudiants<ul><li><a href=\"/nos-ambassadeurs\">Ambassadeurs</a></li><li><a href=\"/vie-de-campus/services-aux-eleves/logements\">Logements</a></li><li><a href=\"/vie-de-campus/services-aux-eleves/financer-vos-etudes\">Aides financières</a></li></ul></li><li>Professionnels<ul><li><a href=\"/presse\">Presse</a></li><li><a href=\"/lecole/salles-blanches/salles-blanches\">Salles blanches</a></li><li><a href=\"/lecole/location-despaces\">Location d\\'espaces</a></li><li><a href=\"/entreprises/entreprises\">Recruter nos élèves</a></li><li><a href=\"/lecole/alumni/le-reseau\">Alumni</a></li><li><a href=\"/lecole/alumni/wall-of-fame\">Wall of fame</a></li></ul></li></ul>\\r\\n\\t\\t\\t\\t</div>\\r\\n\\t\\t\\t</div>\\r\\n\\t\\t</div>\\r\\n\\t</div>\\r\\n\\t<div class=\"bottom\">\\r\\n\\t\\t<div class=\"container\">\\r\\n\\t\\t\\t<ul>\\r\\n\\t<li><a href=\"/informations/mentions-legales\">Mentions Légales</a></li><li><a href=\"/informations/protection-des-donnees\">Protection des données</a></li><li><a href=\"/plan-site\">Plan du site</a></li>\\r\\n\\t<li><a href=\"#cookies\">Gestion des cookies</a></li>\\r\\n</ul>\\r\\n\\t\\t</div>\\r\\n\\t</div>\\r\\n</footer><script id=\"powermail_conditions_container\" data-condition-uri=\"https://www.esiee.fr/?type=3132\"></script>\\n\\n<script src=\"/typo3conf/ext/esiee_sitepackage/Resources/Public/vendor/jquery/jquery.min.js?1698329546\"></script>\\n<script src=\"/typo3conf/ext/ameos_tarteaucitron/Resources/Public/libs/tarteaucitron.js/tarteaucitron.js?1698312805\"></script>\\n<script src=\"/typo3conf/ext/powermail/Resources/Public/JavaScript/Powermail/Form.min.js?1698312805\" defer=\"defer\"></script>\\n<script src=\"/typo3conf/ext/powermail_cond/Resources/Public/JavaScript/PowermailCondition.min.js?1698312805\" defer=\"defer\"></script>\\n<script src=\"/typo3conf/ext/cs_seo/Resources/Public/JavaScript/cs_seo.ga.js?1698312805\"></script>\\n<script src=\"/typo3conf/ext/ameos_tarteaucitron/Resources/Public/js/ameostarteaucitron.js?1698312805\"></script>\\n<script src=\"/typo3conf/ext/ameos_tac_matomofrenchprivacy/Resources/Public/js/matomo-optout.js?1698329545\"></script>\\n<script src=\"/typo3conf/ext/solr/Resources/Public/JavaScript/JQuery/jquery.autocomplete.min.js?1698312805\"></script>\\n<script src=\"/typo3conf/ext/solr/Resources/Public/JavaScript/suggest_controller.js?1698312805\"></script>\\n<script src=\"/typo3conf/ext/esiee_sitepackage/Resources/Public/vendor/accessconfig/js/accessconfig.min.js?1698329546\"></script>\\n<script src=\"/typo3conf/ext/esiee_sitepackage/Resources/Public/vendor/swiper/swiper.min.js?1698329546\"></script>\\n<script src=\"/typo3conf/ext/esiee_sitepackage/Resources/Public/vendor/w3c/tabs-automatic.js?1698329546\"></script>\\n<script src=\"/typo3conf/ext/ameos_tarteaucitron/Resources/Public/libs/tarteaucitron.js/tarteaucitron.services.js?1698312805\"></script>\\n<script src=\"/typo3conf/ext/ameos_tarteaucitron/Resources/Public/libs/tarteaucitron.js/lang/tarteaucitron.fr.js?1698312805\"></script>\\n<script src=\"/typo3conf/ext/esiee_sitepackage/Resources/Public/js/tarteaucitron.js?1698329546\"></script>\\n<script src=\"/typo3conf/ext/esiee_sitepackage/Resources/Public/js/script.js?1698329546\"></script>\\n<script src=\"/typo3temp/assets/js/549b2a986318b9aca1d75a525bf0969a.js?1698312804\"></script>\\n\\n\\n</body>\\n</html>'"
      ]
     },
     "execution_count": 9,
     "metadata": {},
     "output_type": "execute_result"
    }
   ],
   "source": [
    "# Test EXERCICE 1\n",
    "url = \"http://www.esiee.fr/\"\n",
    "test = RequestHTTP('Mozilla/5.0 (Macintosh; Intel Mac OS X 10_10_1) AppleWebKit/537.36 (KHTML, like Gecko) Chrome/39.0.2171.95 Safari/537.36')\n",
    "test.request(url,10)"
   ]
  },
  {
   "cell_type": "markdown",
   "metadata": {},
   "source": [
    "# Exploitation du HTML  "
   ]
  },
  {
   "cell_type": "markdown",
   "metadata": {},
   "source": [
    "Ici, il faut récupérer le code HTML d'un site web à partir d'une requête. Lorsque vous avez récupéré le texte d'un site il faut le parser. Pour cela, on utilise BeautifulSoup qui permet de transformer la structure HTML en objet Python. Cela permet de récupérer efficacement les données qui nous intéresse.\n",
    "\n",
    "Pour les webmasters, le blocage le plus souvent mis en place et un blocage sur le User-Agent. Le User-Agent est un paramètre intégré dans la requête HTTP réalisé par le Navigateur pour envoyer au front des informations basiques :\n",
    "\n",
    "- la version du Navigateur,\n",
    "- la version de l'OS\n",
    "- Le type de gestionnaire graphique (Gecko)\n",
    "- le type de device utilisé"
   ]
  },
  {
   "cell_type": "markdown",
   "metadata": {},
   "source": [
    "Exemple de User Agent :  \n",
    "\n",
    "`Mozilla/5.0 (Windows NT 6.1; Win64; x64; rv:47.0) Gecko/20100101 Firefox/47.0`"
   ]
  },
  {
   "cell_type": "markdown",
   "metadata": {},
   "source": [
    "Commençons à utiliser `BeautifulSoup`, pour l'installer : "
   ]
  },
  {
   "cell_type": "code",
   "execution_count": 14,
   "metadata": {},
   "outputs": [
    {
     "name": "stdout",
     "output_type": "stream",
     "text": [
      "Requirement already satisfied: bs4 in /anaconda3/lib/python3.7/site-packages (0.0.1)\n",
      "Requirement already satisfied: beautifulsoup4 in /anaconda3/lib/python3.7/site-packages (from bs4) (4.8.1)\n",
      "Requirement already satisfied: soupsieve>=1.2 in /anaconda3/lib/python3.7/site-packages (from beautifulsoup4->bs4) (1.9.3)\n",
      "Requirement already satisfied: lxml in /anaconda3/lib/python3.7/site-packages (4.4.1)\n"
     ]
    }
   ],
   "source": [
    "!pip install bs4\n",
    "!pip install  lxml"
   ]
  },
  {
   "cell_type": "code",
   "execution_count": 15,
   "metadata": {},
   "outputs": [],
   "source": [
    "import requests\n",
    "from bs4 import BeautifulSoup"
   ]
  },
  {
   "cell_type": "markdown",
   "metadata": {},
   "source": [
    "Pour transformer une requête (requests) en objet BeautifulSoup :"
   ]
  },
  {
   "cell_type": "code",
   "execution_count": 17,
   "metadata": {},
   "outputs": [],
   "source": [
    "response = requests.get(url)\n",
    "soup = BeautifulSoup(response.text)"
   ]
  },
  {
   "cell_type": "markdown",
   "metadata": {},
   "source": [
    "Il se peut qu'un message d'erreur arrive à ce point là si vous n'avez pas la librarie `lxml` installée, pour se faire vous avez juste à lancer la commande suivante : "
   ]
  },
  {
   "cell_type": "code",
   "execution_count": 18,
   "metadata": {},
   "outputs": [
    {
     "name": "stdout",
     "output_type": "stream",
     "text": [
      "Requirement already satisfied: lxml in /anaconda3/lib/python3.7/site-packages (4.4.1)\r\n"
     ]
    }
   ],
   "source": [
    "!pip install lxml"
   ]
  },
  {
   "cell_type": "markdown",
   "metadata": {},
   "source": [
    "Pour trouver tous les liens d'une page on récupère la balise `a` qui permet de gérer les liens en HTML  :"
   ]
  },
  {
   "cell_type": "code",
   "execution_count": 19,
   "metadata": {},
   "outputs": [
    {
     "data": {
      "text/plain": [
       "[<a href=\"#\">\n",
       " <i class=\"icon-parametres\"></i>\n",
       " </a>,\n",
       " <a href=\"https://gmail.com\" target=\"_blank\" title=\"Webmail ESIEE Paris\"><i><img alt=\"\" src=\"https://www.esiee.fr/sites/default/files/menu_icons/menu_icon_950.png\"/> </i><span>Webmail ESIEE Paris</span></a>,\n",
       " <a href=\"https://planif.esiee.fr/direct/\" target=\"_blank\" title=\"Emploi du temps général\"><i><img alt=\"\" src=\"https://www.esiee.fr/sites/default/files/menu_icons/menu_icon_1331.png\"/> </i><span>Emploi du temps général</span></a>,\n",
       " <a href=\"https://planif.esiee.fr/jsp/custom/esiee/easyMyPlanning.jsp\" target=\"_blank\" title=\"Emploi du temps individuel\"><i><img alt=\"\" src=\"https://www.esiee.fr/sites/default/files/menu_icons/menu_icon_1332.png\"/> </i><span>Emploi du temps individuel</span></a>,\n",
       " <a href=\"https://intra.esiee.fr\" target=\"_blank\" title=\"Extranet\"><i><img alt=\"\" src=\"https://www.esiee.fr/sites/default/files/menu_icons/menu_icon_951.png\"/> </i><span>Extranet</span></a>,\n",
       " <a href=\"https://esiee.blackboard.com\" target=\"_blank\" title=\"iCampus\"><i><img alt=\"\" src=\"https://www.esiee.fr/sites/default/files/menu_icons/menu_icon_1311.png\"/> </i><span>iCampus</span></a>,\n",
       " <a href=\"http://e5.onthehub.com/WebStore/Welcome.aspx?vsro=8&amp;ws=45AD823E-799B-E011-969D-0030487D8897&amp;JSEnabled=1\" target=\"_blank\" title=\"Microsoft DreamSpark\"><i><img alt=\"\" src=\"https://www.esiee.fr/sites/default/files/menu_icons/menu_icon_1696.png\"/> </i><span>Microsoft DreamSpark</span></a>,\n",
       " <a href=\"/en\">\n",
       " <i>\n",
       " <img alt=\"English\" src=\"/sites/all/themes/custom/esiee_theme/assets/images/flag-en.png\"/>\n",
       " </i>\n",
       " </a>,\n",
       " <a href=\"https://www.facebook.com/esieeparis\" target=\"_blank\">\n",
       " <i class=\"fa fa-facebook\"></i>\n",
       " </a>,\n",
       " <a href=\"https://twitter.com/ESIEEPARIS\" target=\"_blank\">\n",
       " <i class=\"fa fa-twitter\"></i>\n",
       " </a>]"
      ]
     },
     "execution_count": 19,
     "metadata": {},
     "output_type": "execute_result"
    }
   ],
   "source": [
    "soup.find_all(\"a\")[0:10]"
   ]
  },
  {
   "cell_type": "markdown",
   "metadata": {},
   "source": [
    "On peut préciser la classe HTML voulue  pour l'ensemble des `a`:\n",
    "\n",
    "```python\n",
    "soup.find_all(class_=\"<CLASS_NAME>\")[0:10]\n",
    "```\n",
    "\n",
    "Ici par exemple: "
   ]
  },
  {
   "cell_type": "code",
   "execution_count": 20,
   "metadata": {},
   "outputs": [
    {
     "data": {
      "text/plain": [
       "[<div class=\"slide slide-content\">\n",
       " <span class=\"slide-content-date inline-block\"><span class=\"date-display-single\">19.11.2019</span></span>\n",
       " <span class=\"slide-content-theme inline-block is-uppercase\">Evènements</span>\n",
       " <div class=\"clearfix\"></div>\n",
       " <div class=\"slide-content-img pull-left\"><!-- scald=2387:news_thumbnail --><img alt=\"Vignette Webserie Episode 1\" height=\"90\" src=\"https://www.esiee.fr/sites/default/files/styles/news/public/thumbnails/image/vignette-episode-1.jpg.png?itok=zxvSPpas\" title=\"Vignette Webserie Episode 1\" width=\"120\"/><!-- END scald=2387 --></div>\n",
       " <span class=\"slide-content-title\"><a class=\"is-uppercase\" href=\"/fr/actualite/webserie-yann-lecun-prix-turing\">Lancement de la webserie Yann LeCun Prix Turing et ESIEE Paris</a></span>\n",
       " <div class=\"clearfix\"></div>\n",
       " <p class=\"slide-content-desc\">Découvrez la nouvelle Webserie sur l'histoire commune entre Yann LeCun, lauréat du Prix Turing, et ESIEE Paris.</p> </div>,\n",
       " <div class=\"slide slide-content\">\n",
       " <span class=\"slide-content-date inline-block\"><span class=\"date-display-single\">21.10.2019</span></span>\n",
       " <span class=\"slide-content-theme inline-block is-uppercase\">Salons</span>\n",
       " <div class=\"clearfix\"></div>\n",
       " <div class=\"slide-content-img pull-left\"><!-- scald=2280:news_thumbnail --><img alt=\"Salons\" height=\"90\" src=\"https://www.esiee.fr/sites/default/files/styles/news/public/thumbnails/image/generique-salons.png?itok=2Y0RvWr2\" title=\"Salons\" width=\"120\"/><!-- END scald=2280 --></div>\n",
       " <span class=\"slide-content-title\"><a class=\"is-uppercase\" href=\"/fr/actualite/salons-etudiants-novembre-2019\">Salons étudiants | Rendez-vous avec ESIEE Paris en Novembre !</a></span>\n",
       " <div class=\"clearfix\"></div>\n",
       " <p class=\"slide-content-desc\">Vous recherchez une formation d'ingénieur ? Découvrez les filières ESIEE Paris.</p> </div>,\n",
       " <div class=\"slide slide-content\">\n",
       " <span class=\"slide-content-date inline-block\"><span class=\"date-display-single\">20.09.2019</span></span>\n",
       " <span class=\"slide-content-theme inline-block is-uppercase\">Journée portes ouvertes</span>\n",
       " <div class=\"clearfix\"></div>\n",
       " <div class=\"slide-content-img pull-left\"><!-- scald=2282:news_thumbnail --><img alt=\"JPO ESIEE Paris\" height=\"90\" src=\"https://www.esiee.fr/sites/default/files/styles/news/public/thumbnails/image/generique-jpo.jpg?itok=Y_OmDg80\" title=\"JPO ESIEE Paris\" width=\"120\"/><!-- END scald=2282 --></div>\n",
       " <span class=\"slide-content-title\"><a class=\"is-uppercase\" href=\"/fr/actualite/portes-ouvertes-14-decembre-2019\">14 décembre 2019 | Journée Portes Ouvertes</a></span>\n",
       " <div class=\"clearfix\"></div>\n",
       " <p class=\"slide-content-desc\">Bien choisir son école, c'est aussi la rencontrer ! Rendez-vous le 14 décembre 2019 (13 h à 18 h) à ESIEE Paris.</p> </div>,\n",
       " <div class=\"slide slide-content\">\n",
       " <span class=\"slide-content-date inline-block\"><span class=\"date-display-single\">21.11.2019</span></span>\n",
       " <span class=\"slide-content-theme inline-block is-uppercase\">Conférences</span>\n",
       " <div class=\"clearfix\"></div>\n",
       " <div class=\"slide-content-img pull-left\"><!-- scald=2390:news_thumbnail --><img alt=\"Conférence de clôture de la chaire Blaise Pascal\" height=\"90\" src=\"https://www.esiee.fr/sites/default/files/styles/news/public/thumbnails/image/illustration-conference-professeur-cui-2019_0.png?itok=k1zH48d0\" title=\"Conférence de clôture de la chaire Blaise Pascal\" width=\"120\"/><!-- END scald=2390 --></div>\n",
       " <span class=\"slide-content-title\"><a class=\"is-uppercase\" href=\"/fr/actualite/recherche-professeur-cui-conference-2019\">Chaire Blaise Pascal - Conférence de clôture du Professeur CUI, Professeur invité</a></span>\n",
       " <div class=\"clearfix\"></div>\n",
       " <p class=\"slide-content-desc\">Le Professeur Tianhong CUI, Professeur en ingénierie mécanique de renommée mondiale effectuera sa dernière conférence dans le cadre de la chaire Blaise Pascal.</p> </div>,\n",
       " <div class=\"slide slide-content\">\n",
       " <span class=\"slide-content-date inline-block\"><span class=\"date-display-single\">12.09.2019</span></span>\n",
       " <span class=\"slide-content-theme inline-block is-uppercase\">Evènements</span>\n",
       " <div class=\"clearfix\"></div>\n",
       " <div class=\"slide-content-img pull-left\"><!-- scald=2253:news_thumbnail --><img alt=\"FUTURE Days 2019\" height=\"90\" src=\"https://www.esiee.fr/sites/default/files/styles/news/public/thumbnails/image/illustration-futuredays2019-v3.jpg?itok=GUrdDpt6\" title=\"FUTURE Days 2019\" width=\"120\"/><!-- END scald=2253 --></div>\n",
       " <span class=\"slide-content-title\"><a class=\"is-uppercase\" href=\"/fr/actualite/futuredays-2019\">Participez aux FUTURE Days 2019, l’évènement du grand Paris sur les villes de demain</a></span>\n",
       " <div class=\"clearfix\"></div>\n",
       " <p class=\"slide-content-desc\">FUTURES Days \"Héritages et anticipations urbaines\" | Les 27 et 28 novembre 2019</p> </div>]"
      ]
     },
     "execution_count": 20,
     "metadata": {},
     "output_type": "execute_result"
    }
   ],
   "source": [
    "soup.find_all(class_=\"slide\")[0:5]"
   ]
  },
  {
   "cell_type": "markdown",
   "metadata": {},
   "source": [
    "Pour récupérer le text sans les balises HTML :"
   ]
  },
  {
   "cell_type": "code",
   "execution_count": 21,
   "metadata": {},
   "outputs": [
    {
     "data": {
      "text/plain": [
       "\"\\n\\n\\n\\n\\n  \\n\\n\\n\\n\\n\\n\\nESIEE Paris, l’école de l’innovation technologique | Grande école d’ingénieurs | ESIEE Paris\\n\\n\\n\\n\\n\\n\\n\\n\\n\\n\\n\\n\\n \\n\\n\\n\\n\\n\\n\\n\\n\\n\\n\\n\\nLes outils ESIEE Paris Webmail ESIEE Paris Emploi du temps général Emploi du temps individuel Extranet iCampus Microsoft DreamSpark \\n\\n\\n\\n\\n\\n\\n\\n\\n\\n\\n\\n\\n\\n\\n\\n\\n\\n\\n\\n\\n\\n\\n\\n\\n\\n\\n\\n\\n\\n\\n\\n\\n\\n\\n\\n\\n\\n\\n\\n\\n\\n\\n\\n\\n\\n\\n menu\\nFormations\\n\\n\\nRETOUR menu\\nFormations ESIEE ParisIngénieur\\n\\n\\nIngénieur\\nRETOUR Formations\\nIngénieur ESIEE ParisPremier cycleLe cycle ingénieur\\n\\n\\nLe cycle ingénieur\\nRETOUR Ingénieur\\nLe cycle ingénieur ESIEE ParisEnseignements de 1ère annéeEnseignements de 2e et 3e annéeProfils métiersFilières\\n\\n\\nFilières\\nRETOUR Ingénieur\\n8 filières, 1 diplômeInformatiqueCybersécurité des Systèmes d'informationDatascience et intelligence artificielleSystèmes embarquésSystèmes électroniques intelligentsGénie industrielBiotechnologies et e-santéEnergieEmplois et salairesFrais de scolarité ingénieur et aides financièresStagesAdmissionsContactIngénieur par apprentissage\\n\\n\\nIngénieur par apprentissage\\nR\""
      ]
     },
     "execution_count": 21,
     "metadata": {},
     "output_type": "execute_result"
    }
   ],
   "source": [
    "soup.text[0:1000]"
   ]
  },
  {
   "cell_type": "markdown",
   "metadata": {},
   "source": [
    "## Exercice\n",
    "### Exercice 3\n",
    "\n",
    "Améliorer la classe développé précédemment.\n",
    "\n",
    "- Ajouter une méthode pour récupérer l'objet soup d'un url\n",
    "- Récupérer une liste de User Agent et effectuer une rotation aléatoire sur celui à utiliser\n",
    "- Utiliser cette classe pour parser une page HTML et récupérer : le titre, tous les H1 (si ils existent), les liens vers les images, les liens sortants vers d'autres sites, et le texte principal.\n",
    "\n",
    "Parsing d'un sitemaps pour récupérer une listes de liens avec les informations disponibles. -> Stocker dans un dictionnaire et dans un fichier JSON local."
   ]
  },
  {
   "cell_type": "markdown",
   "metadata": {},
   "source": [
    "# Exploitation des appels d'API\n"
   ]
  },
  {
   "cell_type": "markdown",
   "metadata": {},
   "source": [
    "\n",
    "Losque le front du site récupère des données sur une API géré par le back, un appel d'API est réalisé. Cet appel est recensé dans les appels réseaux. Il est alors possible de re-jouer cet appel pour récupérer à nouveau les données. Il est très facile de récupérer ces appels dans l'onglet Network de la console développeur de Chrome ou FireFox. La console vous permet de copier le code CURL pour effectuée et vous pouvez ensuite la transformer en code Python depuis le site https://curl.trillworks.com/.\n",
    "\n",
    "Souvent les APIs sont bloquées avec certain paramètres. L'API verifie que dans les headers de la requêtes HTTP ces paramètres sont présents : * un token généré à la volée avec des protocole OAuth2 (ou moins développés). * un referer provenant du site web (la source de la requête), très facile à falsifier.\n",
    "\n"
   ]
  },
  {
   "cell_type": "markdown",
   "metadata": {},
   "source": [
    "## Exercice \n",
    "### Exercice 4\n",
    "\n",
    "- Utiliser les informations développées plus haut pour récupérer les premiers résultats d'une recherche d'une requête\n",
    "sur Qwant. \n",
    "\n",
    "Tips : \n",
    "\n",
    "- Aller sur https://www.qwant.com/\n",
    "- Ouvrir les outils de développements de Chrome ou Firefox\n",
    "- Onglet Network\n",
    "- Fouiller dans les requêtes"
   ]
  },
  {
   "cell_type": "markdown",
   "metadata": {},
   "source": [
    "# Exercice Final  "
   ]
  },
  {
   "cell_type": "markdown",
   "metadata": {},
   "source": [
    "Exercice Final\n",
    "Utilisez tout ce que vous avez appris pour récupérer des articles de News avec une catégorie. Il est souvent intéressant de partir des flux RSS pour commencer :\n",
    "\n",
    "Les données doivent comprendre :\n",
    "- Le texte important propre\n",
    "- L'url\n",
    "- Le domaine\n",
    "- la catégorie\n",
    "- Le titre de l'article\n",
    "- Le titre de la page\n",
    "- (Facultatif) : les images\n",
    "\n",
    "Tips : \n",
    "\n",
    "- Taper le nom de votre média favoris + RSS (par exemple : https://www.lemonde.fr/rss/)\n",
    "- Aller dans le DOM de la page \n",
    "- Trouver les catégories et les liens vers les articles"
   ]
  },
  {
   "cell_type": "code",
   "execution_count": null,
   "metadata": {},
   "outputs": [],
   "source": []
  }
 ],
 "metadata": {
  "kernelspec": {
   "display_name": "Python 3 (ipykernel)",
   "language": "python",
   "name": "python3"
  },
  "language_info": {
   "codemirror_mode": {
    "name": "ipython",
    "version": 3
   },
   "file_extension": ".py",
   "mimetype": "text/x-python",
   "name": "python",
   "nbconvert_exporter": "python",
   "pygments_lexer": "ipython3",
   "version": "3.9.13"
  }
 },
 "nbformat": 4,
 "nbformat_minor": 2
}
