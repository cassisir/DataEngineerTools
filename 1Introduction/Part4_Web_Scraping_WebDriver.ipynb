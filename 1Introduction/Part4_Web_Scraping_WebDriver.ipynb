{
 "cells": [
  {
   "cell_type": "markdown",
   "metadata": {},
   "source": [
    "# Introduction"
   ]
  },
  {
   "cell_type": "markdown",
   "metadata": {},
   "source": [
    "Aujourd'hui la plupart des sites web utilisent du JavaScript pour rendre le site plus dynamique et agréable mais aussi pour afficher la données. \n",
    "\n",
    "Pour ces sites, la première méthode abordée n'est pas efficace, car de nombreuses requêtes sont utilisées pour se connecter, afficher la donnée, naviguer, il faudrait prendre en compte toutes ces requêtes et les assembler pour simuler le comportement du site. \n",
    "\n",
    "**C'est le comportement de votre navigateur**, il compile toutes les interactions, les requêtes et génère du HTML permettant d'afficher l'interface graphique d'un site web.\n",
    "\n",
    "Pour palier ce problème on peut laisser le navigateur faire son travail et contrôler sa surcouche logiciel. Pour cela on peut prendre le contrôle d'un navigateur comme Chrome, Edge, Firefox ou Safari depuis un script Python. \n",
    "\n",
    "Pour cela, nous allons utiliser un package Python `Selenium` https://selenium-python.readthedocs.io/ qui permet d'instancier un navigateur et de le contrôler. Sélénium est beaucoup utilisé pour générer des tests automatiques de sites web. \n",
    "\n",
    "On peut trouver les drivers des différents browser : \n",
    "- Chrome:\thttps://sites.google.com/a/chromium.org/chromedriver/downloads\n",
    "- Edge:\thttps://developer.microsoft.com/en-us/microsoft-edge/tools/webdriver/\n",
    "- Firefox:\thttps://github.com/mozilla/geckodriver/releases\n",
    "- Safari:\thttps://webkit.org/blog/6900/webdriver-support-in-safari-10/"
   ]
  },
  {
   "cell_type": "code",
   "execution_count": 76,
   "metadata": {},
   "outputs": [
    {
     "name": "stdout",
     "output_type": "stream",
     "text": [
      "Found existing installation: selenium 4.0.0\n",
      "Uninstalling selenium-4.0.0:\n",
      "  Successfully uninstalled selenium-4.0.0\n",
      "Collecting selenium==4.0.0\n",
      "  Using cached selenium-4.0.0-py3-none-any.whl (954 kB)\n",
      "Requirement already satisfied: urllib3[secure]~=1.26 in c:\\users\\ryanc\\anaconda3\\lib\\site-packages (from selenium==4.0.0) (1.26.15)\n",
      "Requirement already satisfied: trio-websocket~=0.9 in c:\\users\\ryanc\\anaconda3\\lib\\site-packages (from selenium==4.0.0) (0.11.1)\n",
      "Requirement already satisfied: trio~=0.17 in c:\\users\\ryanc\\anaconda3\\lib\\site-packages (from selenium==4.0.0) (0.23.1)\n",
      "Requirement already satisfied: sortedcontainers in c:\\users\\ryanc\\anaconda3\\lib\\site-packages (from trio~=0.17->selenium==4.0.0) (2.4.0)\n",
      "Requirement already satisfied: exceptiongroup>=1.0.0rc9 in c:\\users\\ryanc\\anaconda3\\lib\\site-packages (from trio~=0.17->selenium==4.0.0) (1.2.0)\n",
      "Requirement already satisfied: attrs>=20.1.0 in c:\\users\\ryanc\\anaconda3\\lib\\site-packages (from trio~=0.17->selenium==4.0.0) (22.1.0)\n",
      "Requirement already satisfied: cffi>=1.14 in c:\\users\\ryanc\\anaconda3\\lib\\site-packages (from trio~=0.17->selenium==4.0.0) (1.15.1)\n",
      "Requirement already satisfied: sniffio>=1.3.0 in c:\\users\\ryanc\\anaconda3\\lib\\site-packages (from trio~=0.17->selenium==4.0.0) (1.3.0)\n",
      "Requirement already satisfied: idna in c:\\users\\ryanc\\anaconda3\\lib\\site-packages (from trio~=0.17->selenium==4.0.0) (3.4)\n",
      "Requirement already satisfied: outcome in c:\\users\\ryanc\\anaconda3\\lib\\site-packages (from trio~=0.17->selenium==4.0.0) (1.3.0.post0)\n",
      "Requirement already satisfied: wsproto>=0.14 in c:\\users\\ryanc\\anaconda3\\lib\\site-packages (from trio-websocket~=0.9->selenium==4.0.0) (1.2.0)\n",
      "Requirement already satisfied: urllib3-secure-extra in c:\\users\\ryanc\\anaconda3\\lib\\site-packages (from urllib3[secure]~=1.26->selenium==4.0.0) (0.1.0)\n",
      "Requirement already satisfied: certifi in c:\\users\\ryanc\\anaconda3\\lib\\site-packages (from urllib3[secure]~=1.26->selenium==4.0.0) (2023.7.22)\n",
      "Requirement already satisfied: cryptography>=1.3.4 in c:\\users\\ryanc\\anaconda3\\lib\\site-packages (from urllib3[secure]~=1.26->selenium==4.0.0) (39.0.1)\n",
      "Requirement already satisfied: pyOpenSSL>=0.14 in c:\\users\\ryanc\\anaconda3\\lib\\site-packages (from urllib3[secure]~=1.26->selenium==4.0.0) (23.0.0)\n",
      "Requirement already satisfied: pycparser in c:\\users\\ryanc\\anaconda3\\lib\\site-packages (from cffi>=1.14->trio~=0.17->selenium==4.0.0) (2.21)\n",
      "Requirement already satisfied: h11<1,>=0.9.0 in c:\\users\\ryanc\\anaconda3\\lib\\site-packages (from wsproto>=0.14->trio-websocket~=0.9->selenium==4.0.0) (0.14.0)\n",
      "Installing collected packages: selenium\n",
      "Successfully installed selenium-4.0.0\n"
     ]
    }
   ],
   "source": [
    "!pip uninstall selenium -y && pip install selenium==4.0.0"
   ]
  },
  {
   "cell_type": "code",
   "execution_count": 1,
   "metadata": {},
   "outputs": [],
   "source": [
    "from selenium import webdriver\n",
    "from selenium.webdriver.chrome.service import Service"
   ]
  },
  {
   "cell_type": "code",
   "execution_count": 49,
   "metadata": {},
   "outputs": [],
   "source": [
    "IS_LINUX = False"
   ]
  },
  {
   "cell_type": "code",
   "execution_count": 2,
   "metadata": {},
   "outputs": [],
   "source": [
    "service = Service(executable_path='./chromedriver-win64/chromedriver.exe')\n",
    "chrome = webdriver.Chrome(service=service)"
   ]
  },
  {
   "cell_type": "markdown",
   "metadata": {},
   "source": [
    "Vous devez voir apparaître une nouvelle instance de votre navigateur. Si vous voulez accéder à une page : "
   ]
  },
  {
   "cell_type": "code",
   "execution_count": 3,
   "metadata": {},
   "outputs": [],
   "source": [
    "chrome.get(\"https://www.amazon.fr\")"
   ]
  },
  {
   "cell_type": "markdown",
   "metadata": {},
   "source": [
    "Allez maintenant voir votre fenêtre. Vous êtes sur le site d'amazon. Vous pouvez maintenant vous déplacer dans la page. Pour cela il va falloir inspecter le code source de la page.\n",
    "\n",
    "Il existe de nombreuse méthode pour récupérer les éléments par exemple `find_element_by_link_text` qui permet de récupérer un élément grâce au text affiché. Ici, si on veut récupérer toutes les `Ventes Flash`"
   ]
  },
  {
   "cell_type": "code",
   "execution_count": 4,
   "metadata": {},
   "outputs": [],
   "source": [
    "from selenium.webdriver.common.by import By"
   ]
  },
  {
   "cell_type": "code",
   "execution_count": 17,
   "metadata": {
    "scrolled": true
   },
   "outputs": [
    {
     "data": {
      "text/plain": [
       "selenium.webdriver.remote.webelement.WebElement"
      ]
     },
     "execution_count": 17,
     "metadata": {},
     "output_type": "execute_result"
    }
   ],
   "source": [
    "link = chrome.find_element(By.LINK_TEXT, \"Ventes Flash\")\n",
    "type(link)"
   ]
  },
  {
   "cell_type": "markdown",
   "metadata": {},
   "source": [
    "Si on veut entrer dans le lien, il suffit d'appeler la méthode `click`."
   ]
  },
  {
   "cell_type": "code",
   "execution_count": 18,
   "metadata": {},
   "outputs": [],
   "source": [
    "link.click()"
   ]
  },
  {
   "cell_type": "markdown",
   "metadata": {},
   "source": [
    "Vous êtes arrivé sur la page des ventes flash. Maintenant nous allons récupérer toutes les ventes actuelles. On remarque que les ventes sont stockés dans des widgets qui porte l'id `widgetContent`."
   ]
  },
  {
   "cell_type": "code",
   "execution_count": 30,
   "metadata": {},
   "outputs": [
    {
     "data": {
      "text/plain": [
       "(list, 3)"
      ]
     },
     "execution_count": 30,
     "metadata": {},
     "output_type": "execute_result"
    }
   ],
   "source": [
    "all_widgets = chrome.find_elements(By.CLASS_NAME, \"a-carousel\")\n",
    "type(all_widgets), len(all_widgets)"
   ]
  },
  {
   "cell_type": "markdown",
   "metadata": {},
   "source": [
    "On obtient une liste d'éléments décrits par cet identifiant. Il y en a 5, un pour chaque ligne. Pour récupérer les différentes offres de la première ligne. on récupère les sections correspondantes: "
   ]
  },
  {
   "cell_type": "code",
   "execution_count": 32,
   "metadata": {},
   "outputs": [
    {
     "name": "stdout",
     "output_type": "stream",
     "text": [
      "17\n"
     ]
    }
   ],
   "source": [
    "first_line = all_widgets[0]\n",
    "all_first_line_elements = first_line.find_elements(By.CLASS_NAME, 'a-carousel-card')\n",
    "print(len(all_first_line_elements))"
   ]
  },
  {
   "cell_type": "markdown",
   "metadata": {},
   "source": [
    "Pour récupérer le text maintenant : "
   ]
  },
  {
   "cell_type": "code",
   "execution_count": 33,
   "metadata": {},
   "outputs": [
    {
     "name": "stdout",
     "output_type": "stream",
     "text": [
      "-9%\n",
      "Vente flash\n",
      "181\n",
      "04€\n",
      "Le plus bas : \n",
      "199,99€\n",
      "RYOBI - Balayeuse Motorisée 18V ONE+ - Largeur Nettoya…\n",
      "\n",
      "-15%\n",
      "Vente flash\n",
      "122\n",
      "48€\n",
      "Le plus bas : \n",
      "144,09€\n",
      "RYOBI - Aspirateur eau et poussière 18V - cuve inox 18…\n",
      "\n",
      "-5%\n",
      "Vente flash\n",
      "46\n",
      "42€\n",
      "Le plus bas : \n",
      "48,86€\n",
      "SONGMICS Boîtes à Chaussures, Lot de 18, Range…\n",
      "\n",
      "-15%\n",
      "Vente flash\n",
      "102\n",
      "30€\n",
      "Le plus bas : \n",
      "119,90€\n",
      "GROHE Mitigeur thermostatique douche Preci…\n",
      "\n",
      "\n",
      "\n",
      "\n",
      "\n",
      "\n",
      "\n",
      "\n",
      "\n",
      "\n",
      "\n",
      "\n",
      "\n",
      "\n",
      "\n",
      "\n",
      "\n",
      "\n",
      "\n",
      "\n",
      "\n",
      "\n",
      "\n",
      "\n",
      "\n",
      "\n",
      "\n"
     ]
    }
   ],
   "source": [
    "_ = [print(elt.text+ \"\\n\")  for elt in all_first_line_elements]"
   ]
  },
  {
   "cell_type": "markdown",
   "metadata": {},
   "source": [
    "Si vous êtes fan de JavaScript vous pouvez même injecter du code JS dans le navigateur depuis Python pour exécuter des opérations complexes. "
   ]
  },
  {
   "cell_type": "code",
   "execution_count": 60,
   "metadata": {},
   "outputs": [],
   "source": [
    "js_script = \"\"\"\n",
    "const class_name = 'DRIOC'\n",
    "console.log(`Hi from ${class_name}`)\n",
    "\"\"\""
   ]
  },
  {
   "cell_type": "code",
   "execution_count": 61,
   "metadata": {},
   "outputs": [],
   "source": [
    "chrome.execute_script(js_script)"
   ]
  },
  {
   "cell_type": "markdown",
   "metadata": {},
   "source": [
    "Vous pouvez aller vérifier dans la console Javascript du navigateur que le message apparait bien. "
   ]
  },
  {
   "cell_type": "markdown",
   "metadata": {},
   "source": [
    "# Exercice"
   ]
  },
  {
   "cell_type": "markdown",
   "metadata": {},
   "source": [
    "## Exercice 1"
   ]
  },
  {
   "cell_type": "markdown",
   "metadata": {},
   "source": [
    "Extraire le prix des offres :"
   ]
  },
  {
   "cell_type": "code",
   "execution_count": 48,
   "metadata": {
    "scrolled": true
   },
   "outputs": [
    {
     "data": {
      "text/plain": [
       "'181.04€'"
      ]
     },
     "execution_count": 48,
     "metadata": {},
     "output_type": "execute_result"
    }
   ],
   "source": [
    "def extract_price(offer_web_element):\n",
    "    price_whole = offer_web_element.find_element(By.CLASS_NAME, 'a-price-whole')\n",
    "    price_fraction = offer_web_element.find_element(By.CLASS_NAME, 'a-price-fraction')\n",
    "    price_symbol = offer_web_element.find_element(By.CLASS_NAME, 'a-price-symbol')\n",
    "    price = price_whole.text+'.'+price_fraction.text+price_symbol.text\n",
    "    return price\n",
    "    \n",
    "\n",
    "extract_price(all_first_line_elements[0])"
   ]
  },
  {
   "cell_type": "markdown",
   "metadata": {},
   "source": [
    "Extraire l'image de l'offre: "
   ]
  },
  {
   "cell_type": "code",
   "execution_count": 56,
   "metadata": {},
   "outputs": [
    {
     "data": {
      "text/plain": [
       "'https://m.media-amazon.com/images/I/719jRCSdYxL._AC_SY310_.jpg'"
      ]
     },
     "execution_count": 56,
     "metadata": {},
     "output_type": "execute_result"
    }
   ],
   "source": [
    "def extract_image(offer_web_element):\n",
    "    image = offer_web_element.find_element(By.TAG_NAME, 'img').get_attribute('src')\n",
    "    return image\n",
    "\n",
    "extract_image(all_first_line_elements[0])"
   ]
  },
  {
   "cell_type": "markdown",
   "metadata": {},
   "source": [
    "Extraire le titre de l'offre: "
   ]
  },
  {
   "cell_type": "code",
   "execution_count": 59,
   "metadata": {},
   "outputs": [
    {
     "data": {
      "text/plain": [
       "'RYOBI - Balayeuse Motorisée 18V ONE+ - Largeur Nettoya…'"
      ]
     },
     "execution_count": 59,
     "metadata": {},
     "output_type": "execute_result"
    }
   ],
   "source": [
    "def extract_title(offer_web_element):\n",
    "    title = offer_web_element.find_element(By.CLASS_NAME, 'a-truncate-cut').text\n",
    "    return title\n",
    "\n",
    "extract_title(all_first_line_elements[0])"
   ]
  },
  {
   "cell_type": "code",
   "execution_count": 62,
   "metadata": {},
   "outputs": [],
   "source": [
    "chrome.close()"
   ]
  }
 ],
 "metadata": {
  "kernelspec": {
   "display_name": "Python 3 (ipykernel)",
   "language": "python",
   "name": "python3"
  },
  "language_info": {
   "codemirror_mode": {
    "name": "ipython",
    "version": 3
   },
   "file_extension": ".py",
   "mimetype": "text/x-python",
   "name": "python",
   "nbconvert_exporter": "python",
   "pygments_lexer": "ipython3",
   "version": "3.9.13"
  }
 },
 "nbformat": 4,
 "nbformat_minor": 2
}
